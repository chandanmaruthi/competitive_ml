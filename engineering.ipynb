{
 "cells": [
  {
   "cell_type": "code",
   "execution_count": 40,
   "metadata": {},
   "outputs": [],
   "source": [
    "import pandas as pd\n",
    "import numpy as np\n",
    "from sklearn.metrics import roc_auc_score\n",
    "from sklearn.preprocessing import LabelEncoder, StandardScaler, KBinsDiscretizer\n",
    "from sklearn.compose import ColumnTransformer, make_column_transformer\n",
    "from sklearn.pipeline import make_pipeline\n",
    "from lightgbm import LGBMClassifier\n",
    "from category_encoders import OneHotEncoder\n",
    "from sklearn.model_selection import cross_val_predict\n",
    "from warnings import filterwarnings\n",
    "from sklearn.impute import SimpleImputer\n",
    "from xgboost import XGBClassifier\n",
    "from sklearn.linear_model import LogisticRegression\n",
    "from sklearn.naive_bayes import GaussianNB\n",
    "from sklearn.ensemble import RandomForestClassifier, VotingClassifier\n",
    "import os\n",
    "import matplotlib.pyplot as plt\n",
    "import seaborn as sns\n",
    "\n",
    "filterwarnings('ignore')\n"
   ]
  },
  {
   "cell_type": "code",
   "execution_count": 41,
   "metadata": {},
   "outputs": [],
   "source": [
    "train = pd.read_csv(\"./data/train_2.csv\")"
   ]
  },
  {
   "cell_type": "code",
   "execution_count": 42,
   "metadata": {},
   "outputs": [],
   "source": [
    "target = labels['target']\n",
    "scores = []\n",
    "train = train.drop([\"id\", \"target\", \"B_15\"], axis=1)"
   ]
  },
  {
   "cell_type": "code",
   "execution_count": 47,
   "metadata": {},
   "outputs": [],
   "source": [
    "app_train = pd.get_dummies(train)\n",
    "imp_mean = SimpleImputer(missing_values=np.nan, strategy='mean')\n",
    "imp_mean.fit(app_train)\n",
    "train_imputed = imp_mean.transform(app_train)\n",
    "scaler = StandardScaler()\n",
    "scaler.fit(train_imputed)\n",
    "train_imputed = scaler.transform(train_imputed)\n",
    "train_imputed = pd.DataFrame(train_imputed, columns=app_train.columns)"
   ]
  },
  {
   "cell_type": "code",
   "execution_count": 44,
   "metadata": {},
   "outputs": [
    {
     "name": "stderr",
     "output_type": "stream",
     "text": [
      "[Parallel(n_jobs=-1)]: Using backend ThreadingBackend with 16 concurrent workers.\n",
      "[Parallel(n_jobs=-1)]: Done  18 tasks      | elapsed:   22.9s\n",
      "[Parallel(n_jobs=-1)]: Done 100 out of 100 | elapsed:  1.4min finished\n"
     ]
    },
    {
     "data": {
      "text/plain": [
       "RandomForestClassifier(bootstrap=True, class_weight=None, criterion='gini',\n",
       "            max_depth=None, max_features='auto', max_leaf_nodes=None,\n",
       "            min_impurity_decrease=0.0, min_impurity_split=None,\n",
       "            min_samples_leaf=1, min_samples_split=2,\n",
       "            min_weight_fraction_leaf=0.0, n_estimators=100, n_jobs=-1,\n",
       "            oob_score=False, random_state=50, verbose=1, warm_start=False)"
      ]
     },
     "execution_count": 44,
     "metadata": {},
     "output_type": "execute_result"
    }
   ],
   "source": [
    "random_forest = RandomForestClassifier(n_estimators = 100, random_state = 50, verbose = 1, n_jobs = -1)\n",
    "random_forest.fit(train_imputed, target)\n"
   ]
  },
  {
   "cell_type": "code",
   "execution_count": 48,
   "metadata": {},
   "outputs": [
    {
     "name": "stdout",
     "output_type": "stream",
     "text": [
      "    feature  importance\n",
      "2       B_1    0.025756\n",
      "3       B_2    0.006684\n",
      "4       B_3    0.104691\n",
      "5       B_4    0.063729\n",
      "6       B_7    0.016498\n",
      "7       B_8    0.050068\n",
      "8       B_9    0.007586\n",
      "9      B_10    0.320476\n",
      "10     B_11    0.026757\n",
      "11     B_12    0.133366\n",
      "12     B_13    0.005373\n",
      "63     D_34    0.004072\n",
      "69     D_40    0.004204\n",
      "95     D_66    0.004059\n",
      "171   D_142    0.004050\n",
      "174   D_145    0.004028\n",
      "195   D_166    0.004043\n",
      "205  B_14_A    0.010597\n",
      "206  B_14_B    0.009808\n"
     ]
    }
   ],
   "source": [
    "features = list(train_imputed.columns)\n",
    "feature_importance_values = random_forest.feature_importances_\n",
    "feature_importances = pd.DataFrame({'feature': features, 'importance':feature_importance_values})\n",
    "print(feature_importances[feature_importances[\"importance\"]>0.004])\n",
    "features_selected = [\"B_1\", \"B_2\", \"B_3\", \"B_4\", \"B_7\", \"B_8\", \"B_9\", \"B_10\", \"B_11\", \"B_12\", \"B_13\", \"D_6\", \"D_13\", \"D_34\", \"D_40\", \"D_56\", \"D_66\", \"D_116\", \"D_138\", \"D_142\", \"D_145\", \"D_166\", \"B_14_A\", \"B_14_B\"]\n",
    "chandan_features = ['B_10','B_3','B_12','B_8','B_7','B_4','D_121','D_26','D_17','B_11','D_56','D_138','D_1','D_40','D_166',\n",
    "            'C_10','D_102','D_132','D_99','C_14','C_3','C_2','D_13','D_34','D_66','D_2','D_142','D_143','D_21','D_156','D_158','D_37','B_9',\n",
    "            'D_14','C_12','D_28','D_6','D_29','D_54','D_117','C_5','D_86','D_107','D_30']\n",
    "new_df = pd.DataFrame()\n",
    "for f in chandan_features:\n",
    "    new_df[f] = train_imputed[f]"
   ]
  },
  {
   "cell_type": "code",
   "execution_count": 49,
   "metadata": {},
   "outputs": [],
   "source": [
    "def comparison(df, labels, scores):\n",
    "    lr = LogisticRegression(n_jobs=-1)\n",
    "    gnb = GaussianNB()\n",
    "    lgbm = LGBMClassifier(n_jobs=-1,eta=0.01,max_depth=4)\n",
    "    xgb = XGBClassifier(n_jobs=-1, nthreads=-1)\n",
    "    models = [lr, gnb, lgbm, xgb]\n",
    "    for model in models:\n",
    "        scores.append(cross_val_predict(model, df, labels, cv=5, method=\"predict_proba\", n_jobs=-1, verbose=20))\n",
    "    "
   ]
  },
  {
   "cell_type": "code",
   "execution_count": null,
   "metadata": {},
   "outputs": [
    {
     "name": "stderr",
     "output_type": "stream",
     "text": [
      "[Parallel(n_jobs=-1)]: Using backend LokyBackend with 16 concurrent workers.\n"
     ]
    }
   ],
   "source": [
    "comparison(new_df, target, scores)"
   ]
  },
  {
   "cell_type": "code",
   "execution_count": 38,
   "metadata": {},
   "outputs": [
    {
     "name": "stdout",
     "output_type": "stream",
     "text": [
      "0.6202676679532161\n",
      "0.5804651745342949\n",
      "0.6338427869548475\n",
      "0.632673299288413\n"
     ]
    }
   ],
   "source": [
    "for oof in scores:\n",
    "    print(roc_auc_score(target, oof[:,1]))"
   ]
  },
  {
   "cell_type": "code",
   "execution_count": null,
   "metadata": {},
   "outputs": [],
   "source": []
  }
 ],
 "metadata": {
  "kernelspec": {
   "display_name": "Python 3",
   "language": "python",
   "name": "python3"
  },
  "language_info": {
   "codemirror_mode": {
    "name": "ipython",
    "version": 3
   },
   "file_extension": ".py",
   "mimetype": "text/x-python",
   "name": "python",
   "nbconvert_exporter": "python",
   "pygments_lexer": "ipython3",
   "version": "3.6.8"
  }
 },
 "nbformat": 4,
 "nbformat_minor": 2
}

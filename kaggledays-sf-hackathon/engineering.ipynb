{
 "cells": [
  {
   "cell_type": "code",
   "execution_count": 3,
   "metadata": {},
   "outputs": [],
   "source": [
    "import pandas as pd\n",
    "import numpy as np\n",
    "from sklearn.metrics import roc_auc_score\n",
    "from sklearn.preprocessing import LabelEncoder, StandardScaler, KBinsDiscretizer\n",
    "from sklearn.compose import ColumnTransformer, make_column_transformer\n",
    "from sklearn.pipeline import make_pipeline\n",
    "from lightgbm import LGBMClassifier\n",
    "from category_encoders import OneHotEncoder\n",
    "from sklearn.model_selection import cross_val_predict\n",
    "from warnings import filterwarnings\n",
    "from sklearn.impute import SimpleImputer\n",
    "from xgboost import XGBClassifier\n",
    "from sklearn.linear_model import LogisticRegression\n",
    "from sklearn.naive_bayes import GaussianNB\n",
    "from sklearn.ensemble import RandomForestClassifier, VotingClassifier\n",
    "import os\n",
    "import matplotlib.pyplot as plt\n",
    "import seaborn as sns\n",
    "\n",
    "filterwarnings('ignore')\n"
   ]
  },
  {
   "cell_type": "code",
   "execution_count": 4,
   "metadata": {},
   "outputs": [],
   "source": [
    "train = pd.read_csv(\"./data/train_2.csv\")"
   ]
  },
  {
   "cell_type": "code",
   "execution_count": 6,
   "metadata": {},
   "outputs": [],
   "source": [
    "target = train['target']\n",
    "scores = []\n",
    "train = train.drop([\"id\", \"target\", \"B_15\"], axis=1)"
   ]
  },
  {
   "cell_type": "code",
   "execution_count": 7,
   "metadata": {},
   "outputs": [],
   "source": [
    "app_train = pd.get_dummies(train)\n",
    "imp_mean = SimpleImputer(missing_values=np.nan, strategy='mean')\n",
    "imp_mean.fit(app_train)\n",
    "train_imputed = imp_mean.transform(app_train)\n",
    "scaler = StandardScaler()\n",
    "scaler.fit(train_imputed)\n",
    "train_imputed = scaler.transform(train_imputed)\n",
    "train_imputed = pd.DataFrame(train_imputed, columns=app_train.columns)"
   ]
  },
  {
   "cell_type": "code",
   "execution_count": 9,
   "metadata": {},
   "outputs": [
    {
     "name": "stderr",
     "output_type": "stream",
     "text": [
      "[Parallel(n_jobs=-1)]: Using backend ThreadingBackend with 16 concurrent workers.\n",
      "[Parallel(n_jobs=-1)]: Done  18 tasks      | elapsed:   18.9s\n",
      "[Parallel(n_jobs=-1)]: Done 100 out of 100 | elapsed:  1.2min finished\n"
     ]
    },
    {
     "data": {
      "text/plain": [
       "RandomForestClassifier(bootstrap=True, class_weight=None, criterion='gini',\n",
       "            max_depth=None, max_features='auto', max_leaf_nodes=None,\n",
       "            min_impurity_decrease=0.0, min_impurity_split=None,\n",
       "            min_samples_leaf=1, min_samples_split=2,\n",
       "            min_weight_fraction_leaf=0.0, n_estimators=100, n_jobs=-1,\n",
       "            oob_score=False, random_state=50, verbose=1, warm_start=False)"
      ]
     },
     "execution_count": 9,
     "metadata": {},
     "output_type": "execute_result"
    }
   ],
   "source": [
    "random_forest = RandomForestClassifier(n_estimators = 100, random_state = 50, verbose = 1, n_jobs = -1)\n",
    "random_forest.fit(train_imputed, target)\n"
   ]
  },
  {
   "cell_type": "code",
   "execution_count": 10,
   "metadata": {},
   "outputs": [
    {
     "name": "stdout",
     "output_type": "stream",
     "text": [
      "    feature  importance\n",
      "2       B_1    0.025756\n",
      "3       B_2    0.006684\n",
      "4       B_3    0.104691\n",
      "5       B_4    0.063729\n",
      "6       B_7    0.016498\n",
      "7       B_8    0.050068\n",
      "8       B_9    0.007586\n",
      "9      B_10    0.320476\n",
      "10     B_11    0.026757\n",
      "11     B_12    0.133366\n",
      "12     B_13    0.005373\n",
      "63     D_34    0.004072\n",
      "69     D_40    0.004204\n",
      "95     D_66    0.004059\n",
      "171   D_142    0.004050\n",
      "174   D_145    0.004028\n",
      "195   D_166    0.004043\n",
      "205  B_14_A    0.010597\n",
      "206  B_14_B    0.009808\n"
     ]
    }
   ],
   "source": [
    "features = list(train_imputed.columns)\n",
    "feature_importance_values = random_forest.feature_importances_\n",
    "feature_importances = pd.DataFrame({'feature': features, 'importance':feature_importance_values})\n",
    "print(feature_importances[feature_importances[\"importance\"]>0.004])\n",
    "features_selected = [\"B_1\", \"B_2\", \"B_3\", \"B_4\", \"B_7\", \"B_8\", \"B_9\", \"B_10\", \"B_11\", \"B_12\", \"B_13\", \"D_6\", \"D_13\", \"D_34\", \"D_40\", \"D_56\", \"D_66\", \"D_116\", \"D_138\", \"D_142\", \"D_145\", \"D_166\", \"B_14_A\", \"B_14_B\"]\n",
    "chandan_features = ['B_10','B_3','B_12','B_8','B_7','B_4','D_121','D_26','D_17','B_11','D_56','D_138','D_1','D_40','D_166',\n",
    "            'C_10','D_102','D_132','D_99','C_14','C_3','C_2','D_13','D_34','D_66','D_2','D_142','D_143','D_21','D_156','D_158','D_37','B_9',\n",
    "            'D_14','C_12','D_28','D_6','D_29','D_54','D_117','C_5','D_86','D_107','D_30']\n",
    "new_df = pd.DataFrame()\n",
    "for f in chandan_features:\n",
    "    new_df[f] = train_imputed[f]"
   ]
  },
  {
   "cell_type": "code",
   "execution_count": 49,
   "metadata": {},
   "outputs": [],
   "source": [
    "def comparison(df, labels, scores):\n",
    "    lr = LogisticRegression(n_jobs=-1)\n",
    "    gnb = GaussianNB()\n",
    "    lgbm = LGBMClassifier(n_jobs=-1,eta=0.01,max_depth=4)\n",
    "    xgb = XGBClassifier(n_jobs=-1, nthreads=-1)\n",
    "    models = [lr, gnb, lgbm, xgb]\n",
    "    for model in models:\n",
    "        scores.append(cross_val_predict(model, df, labels, cv=5, method=\"predict_proba\", n_jobs=-1, verbose=20))\n",
    "    "
   ]
  },
  {
   "cell_type": "code",
   "execution_count": null,
   "metadata": {},
   "outputs": [
    {
     "name": "stderr",
     "output_type": "stream",
     "text": [
      "[Parallel(n_jobs=-1)]: Using backend LokyBackend with 16 concurrent workers.\n"
     ]
    }
   ],
   "source": [
    "comparison(new_df, target, scores)"
   ]
  },
  {
   "cell_type": "code",
   "execution_count": 38,
   "metadata": {},
   "outputs": [
    {
     "name": "stdout",
     "output_type": "stream",
     "text": [
      "0.6202676679532161\n",
      "0.5804651745342949\n",
      "0.6338427869548475\n",
      "0.632673299288413\n"
     ]
    }
   ],
   "source": [
    "for oof in scores:\n",
    "    print(roc_auc_score(target, oof[:,1]))"
   ]
  },
  {
   "cell_type": "code",
   "execution_count": 1,
   "metadata": {},
   "outputs": [
    {
     "name": "stdout",
     "output_type": "stream",
     "text": [
      "\n",
      "WARNING: The TensorFlow contrib module will not be included in TensorFlow 2.0.\n",
      "For more information, please see:\n",
      "  * https://github.com/tensorflow/community/blob/master/rfcs/20180907-contrib-sunset.md\n",
      "  * https://github.com/tensorflow/addons\n",
      "If you depend on functionality not listed there, please file an issue.\n",
      "\n"
     ]
    }
   ],
   "source": [
    "from ludwig import LudwigModel"
   ]
  },
  {
   "cell_type": "code",
   "execution_count": 17,
   "metadata": {},
   "outputs": [],
   "source": [
    "model_parameters = {\"input_features\": [{\"name\": \"B_10\", \"type\": \"numerical\"}, {\"name\": \"B_3\", \"type\": \"numerical\"}, {\"name\": \"B_12\", \"type\": \"numerical\"}, {\"name\": \"B_8\", \"type\": \"numerical\"}, {\"name\": \"B_7\", \"type\": \"numerical\"}, {\"name\": \"B_4\", \"type\": \"numerical\"}, {\"name\": \"D_121\", \"type\": \"numerical\"}, {\"name\": \"D_26\", \"type\": \"numerical\"}, {\"name\": \"D_17\", \"type\": \"numerical\"}, {\"name\": \"B_11\", \"type\": \"numerical\"}, {\"name\": \"D_56\", \"type\": \"numerical\"}, {\"name\": \"D_138\", \"type\": \"numerical\"}, {\"name\": \"D_1\", \"type\": \"numerical\"}, {\"name\": \"D_40\", \"type\": \"numerical\"}, {\"name\": \"D_166\", \"type\": \"numerical\"}, {\"name\": \"C_10\", \"type\": \"numerical\"}, {\"name\": \"D_102\", \"type\": \"numerical\"}, {\"name\": \"D_132\", \"type\": \"numerical\"}, {\"name\": \"D_99\", \"type\": \"numerical\"}, {\"name\": \"C_14\", \"type\": \"numerical\"}, {\"name\": \"C_3\", \"type\": \"numerical\"}, {\"name\": \"C_2\", \"type\": \"numerical\"}, {\"name\": \"D_13\", \"type\": \"numerical\"}, {\"name\": \"D_34\", \"type\": \"numerical\"}, {\"name\": \"D_66\", \"type\": \"numerical\"}, {\"name\": \"D_2\", \"type\": \"numerical\"}, {\"name\": \"D_142\", \"type\": \"numerical\"}, {\"name\": \"D_143\", \"type\": \"numerical\"}, {\"name\": \"D_21\", \"type\": \"numerical\"}, {\"name\": \"D_156\", \"type\": \"numerical\"}, {\"name\": \"D_158\", \"type\": \"numerical\"}, {\"name\": \"D_37\", \"type\": \"numerical\"}, {\"name\": \"B_9\", \"type\": \"numerical\"}, {\"name\": \"D_14\", \"type\": \"numerical\"}, {\"name\": \"C_12\", \"type\": \"numerical\"}, {\"name\": \"D_28\", \"type\": \"numerical\"}, {\"name\": \"D_6\", \"type\": \"numerical\"}, {\"name\": \"D_29\", \"type\": \"numerical\"}, {\"name\": \"D_54\", \"type\": \"numerical\"}, {\"name\": \"D_117\", \"type\": \"numerical\"}, {\"name\": \"C_5\", \"type\": \"numerical\"}, {\"name\": \"D_86\", \"type\": \"numerical\"}, {\"name\": \"D_107\", \"type\": \"numerical\"}, {\"name\": \"D_30\", \"type\": \"numerical\"}], \"output_features\": [{\"name\": \"target\", \"type\": \"numerical\"}]}"
   ]
  },
  {
   "cell_type": "code",
   "execution_count": null,
   "metadata": {},
   "outputs": [],
   "source": [
    "new_df[\"target\"] = target "
   ]
  },
  {
   "cell_type": "code",
   "execution_count": 25,
   "metadata": {},
   "outputs": [
    {
     "name": "stdout",
     "output_type": "stream",
     "text": [
      "WARNING:tensorflow:From /opt/anaconda3/lib/python3.6/site-packages/tensorflow/python/framework/op_def_library.py:263: colocate_with (from tensorflow.python.framework.ops) is deprecated and will be removed in a future version.\n",
      "Instructions for updating:\n",
      "Colocations handled automatically by placer.\n"
     ]
    },
    {
     "name": "stderr",
     "output_type": "stream",
     "text": [
      "WARNING:tensorflow:From /opt/anaconda3/lib/python3.6/site-packages/tensorflow/python/framework/op_def_library.py:263: colocate_with (from tensorflow.python.framework.ops) is deprecated and will be removed in a future version.\n",
      "Instructions for updating:\n",
      "Colocations handled automatically by placer.\n"
     ]
    },
    {
     "name": "stdout",
     "output_type": "stream",
     "text": [
      "WARNING:tensorflow:From /opt/anaconda3/lib/python3.6/site-packages/tensorflow/python/ops/losses/losses_impl.py:667: to_float (from tensorflow.python.ops.math_ops) is deprecated and will be removed in a future version.\n",
      "Instructions for updating:\n",
      "Use tf.cast instead.\n"
     ]
    },
    {
     "name": "stderr",
     "output_type": "stream",
     "text": [
      "WARNING:tensorflow:From /opt/anaconda3/lib/python3.6/site-packages/tensorflow/python/ops/losses/losses_impl.py:667: to_float (from tensorflow.python.ops.math_ops) is deprecated and will be removed in a future version.\n",
      "Instructions for updating:\n",
      "Use tf.cast instead.\n"
     ]
    }
   ],
   "source": [
    "model = LudwigModel(model_parameters)\n",
    "train_stats = model.train(new_df)"
   ]
  },
  {
   "cell_type": "code",
   "execution_count": 26,
   "metadata": {},
   "outputs": [],
   "source": [
    "model.save(\"/home/jupyter/kaggle_days_sf_comp/nn_model\")"
   ]
  },
  {
   "cell_type": "code",
   "execution_count": 27,
   "metadata": {},
   "outputs": [],
   "source": [
    "test = pd.read_csv(\"./data/test_2.csv\")"
   ]
  },
  {
   "cell_type": "code",
   "execution_count": 29,
   "metadata": {},
   "outputs": [],
   "source": [
    "chandan_features = ['B_10','B_3','B_12','B_8','B_7','B_4','D_121','D_26','D_17','B_11','D_56','D_138','D_1','D_40','D_166',\n",
    "            'C_10','D_102','D_132','D_99','C_14','C_3','C_2','D_13','D_34','D_66','D_2','D_142','D_143','D_21','D_156','D_158','D_37','B_9',\n",
    "            'D_14','C_12','D_28','D_6','D_29','D_54','D_117','C_5','D_86','D_107','D_30']\n",
    "test_df = pd.DataFrame()\n",
    "for f in chandan_features:\n",
    "    test_df[f] = test[f]"
   ]
  },
  {
   "cell_type": "code",
   "execution_count": 30,
   "metadata": {},
   "outputs": [],
   "source": [
    "predictions = model.predict(test_df)"
   ]
  },
  {
   "cell_type": "code",
   "execution_count": 31,
   "metadata": {},
   "outputs": [
    {
     "data": {
      "text/html": [
       "<div>\n",
       "<style scoped>\n",
       "    .dataframe tbody tr th:only-of-type {\n",
       "        vertical-align: middle;\n",
       "    }\n",
       "\n",
       "    .dataframe tbody tr th {\n",
       "        vertical-align: top;\n",
       "    }\n",
       "\n",
       "    .dataframe thead th {\n",
       "        text-align: right;\n",
       "    }\n",
       "</style>\n",
       "<table border=\"1\" class=\"dataframe\">\n",
       "  <thead>\n",
       "    <tr style=\"text-align: right;\">\n",
       "      <th></th>\n",
       "      <th>target_predictions</th>\n",
       "    </tr>\n",
       "  </thead>\n",
       "  <tbody>\n",
       "    <tr>\n",
       "      <th>0</th>\n",
       "      <td>-0.001214</td>\n",
       "    </tr>\n",
       "    <tr>\n",
       "      <th>1</th>\n",
       "      <td>-0.004780</td>\n",
       "    </tr>\n",
       "    <tr>\n",
       "      <th>2</th>\n",
       "      <td>-0.001777</td>\n",
       "    </tr>\n",
       "    <tr>\n",
       "      <th>3</th>\n",
       "      <td>-0.006437</td>\n",
       "    </tr>\n",
       "    <tr>\n",
       "      <th>4</th>\n",
       "      <td>-0.006558</td>\n",
       "    </tr>\n",
       "    <tr>\n",
       "      <th>5</th>\n",
       "      <td>-0.002141</td>\n",
       "    </tr>\n",
       "    <tr>\n",
       "      <th>6</th>\n",
       "      <td>-0.004893</td>\n",
       "    </tr>\n",
       "    <tr>\n",
       "      <th>7</th>\n",
       "      <td>-0.003272</td>\n",
       "    </tr>\n",
       "    <tr>\n",
       "      <th>8</th>\n",
       "      <td>-0.005046</td>\n",
       "    </tr>\n",
       "    <tr>\n",
       "      <th>9</th>\n",
       "      <td>-0.001502</td>\n",
       "    </tr>\n",
       "    <tr>\n",
       "      <th>10</th>\n",
       "      <td>-0.002799</td>\n",
       "    </tr>\n",
       "    <tr>\n",
       "      <th>11</th>\n",
       "      <td>-0.004036</td>\n",
       "    </tr>\n",
       "    <tr>\n",
       "      <th>12</th>\n",
       "      <td>-0.001435</td>\n",
       "    </tr>\n",
       "    <tr>\n",
       "      <th>13</th>\n",
       "      <td>-0.002935</td>\n",
       "    </tr>\n",
       "    <tr>\n",
       "      <th>14</th>\n",
       "      <td>-0.002554</td>\n",
       "    </tr>\n",
       "    <tr>\n",
       "      <th>15</th>\n",
       "      <td>-0.004019</td>\n",
       "    </tr>\n",
       "    <tr>\n",
       "      <th>16</th>\n",
       "      <td>-0.003665</td>\n",
       "    </tr>\n",
       "    <tr>\n",
       "      <th>17</th>\n",
       "      <td>-0.001601</td>\n",
       "    </tr>\n",
       "    <tr>\n",
       "      <th>18</th>\n",
       "      <td>-0.004823</td>\n",
       "    </tr>\n",
       "    <tr>\n",
       "      <th>19</th>\n",
       "      <td>-0.004216</td>\n",
       "    </tr>\n",
       "    <tr>\n",
       "      <th>20</th>\n",
       "      <td>-0.005255</td>\n",
       "    </tr>\n",
       "    <tr>\n",
       "      <th>21</th>\n",
       "      <td>-0.004730</td>\n",
       "    </tr>\n",
       "    <tr>\n",
       "      <th>22</th>\n",
       "      <td>-0.004168</td>\n",
       "    </tr>\n",
       "    <tr>\n",
       "      <th>23</th>\n",
       "      <td>-0.003956</td>\n",
       "    </tr>\n",
       "    <tr>\n",
       "      <th>24</th>\n",
       "      <td>-0.005691</td>\n",
       "    </tr>\n",
       "    <tr>\n",
       "      <th>25</th>\n",
       "      <td>-0.001797</td>\n",
       "    </tr>\n",
       "    <tr>\n",
       "      <th>26</th>\n",
       "      <td>-0.002421</td>\n",
       "    </tr>\n",
       "    <tr>\n",
       "      <th>27</th>\n",
       "      <td>-0.002463</td>\n",
       "    </tr>\n",
       "    <tr>\n",
       "      <th>28</th>\n",
       "      <td>-0.001887</td>\n",
       "    </tr>\n",
       "    <tr>\n",
       "      <th>29</th>\n",
       "      <td>-0.003937</td>\n",
       "    </tr>\n",
       "    <tr>\n",
       "      <th>...</th>\n",
       "      <td>...</td>\n",
       "    </tr>\n",
       "    <tr>\n",
       "      <th>399305</th>\n",
       "      <td>-0.002220</td>\n",
       "    </tr>\n",
       "    <tr>\n",
       "      <th>399306</th>\n",
       "      <td>-0.003707</td>\n",
       "    </tr>\n",
       "    <tr>\n",
       "      <th>399307</th>\n",
       "      <td>-0.006316</td>\n",
       "    </tr>\n",
       "    <tr>\n",
       "      <th>399308</th>\n",
       "      <td>-0.006287</td>\n",
       "    </tr>\n",
       "    <tr>\n",
       "      <th>399309</th>\n",
       "      <td>-0.005669</td>\n",
       "    </tr>\n",
       "    <tr>\n",
       "      <th>399310</th>\n",
       "      <td>-0.006209</td>\n",
       "    </tr>\n",
       "    <tr>\n",
       "      <th>399311</th>\n",
       "      <td>-0.004879</td>\n",
       "    </tr>\n",
       "    <tr>\n",
       "      <th>399312</th>\n",
       "      <td>-0.002681</td>\n",
       "    </tr>\n",
       "    <tr>\n",
       "      <th>399313</th>\n",
       "      <td>-0.003939</td>\n",
       "    </tr>\n",
       "    <tr>\n",
       "      <th>399314</th>\n",
       "      <td>-0.003977</td>\n",
       "    </tr>\n",
       "    <tr>\n",
       "      <th>399315</th>\n",
       "      <td>-0.003288</td>\n",
       "    </tr>\n",
       "    <tr>\n",
       "      <th>399316</th>\n",
       "      <td>-0.003543</td>\n",
       "    </tr>\n",
       "    <tr>\n",
       "      <th>399317</th>\n",
       "      <td>-0.003609</td>\n",
       "    </tr>\n",
       "    <tr>\n",
       "      <th>399318</th>\n",
       "      <td>-0.005950</td>\n",
       "    </tr>\n",
       "    <tr>\n",
       "      <th>399319</th>\n",
       "      <td>-0.005411</td>\n",
       "    </tr>\n",
       "    <tr>\n",
       "      <th>399320</th>\n",
       "      <td>-0.001969</td>\n",
       "    </tr>\n",
       "    <tr>\n",
       "      <th>399321</th>\n",
       "      <td>-0.003537</td>\n",
       "    </tr>\n",
       "    <tr>\n",
       "      <th>399322</th>\n",
       "      <td>-0.001459</td>\n",
       "    </tr>\n",
       "    <tr>\n",
       "      <th>399323</th>\n",
       "      <td>-0.006716</td>\n",
       "    </tr>\n",
       "    <tr>\n",
       "      <th>399324</th>\n",
       "      <td>-0.002464</td>\n",
       "    </tr>\n",
       "    <tr>\n",
       "      <th>399325</th>\n",
       "      <td>-0.001492</td>\n",
       "    </tr>\n",
       "    <tr>\n",
       "      <th>399326</th>\n",
       "      <td>-0.001969</td>\n",
       "    </tr>\n",
       "    <tr>\n",
       "      <th>399327</th>\n",
       "      <td>-0.003628</td>\n",
       "    </tr>\n",
       "    <tr>\n",
       "      <th>399328</th>\n",
       "      <td>-0.004633</td>\n",
       "    </tr>\n",
       "    <tr>\n",
       "      <th>399329</th>\n",
       "      <td>-0.006369</td>\n",
       "    </tr>\n",
       "    <tr>\n",
       "      <th>399330</th>\n",
       "      <td>-0.004856</td>\n",
       "    </tr>\n",
       "    <tr>\n",
       "      <th>399331</th>\n",
       "      <td>-0.005538</td>\n",
       "    </tr>\n",
       "    <tr>\n",
       "      <th>399332</th>\n",
       "      <td>-0.004119</td>\n",
       "    </tr>\n",
       "    <tr>\n",
       "      <th>399333</th>\n",
       "      <td>-0.000501</td>\n",
       "    </tr>\n",
       "    <tr>\n",
       "      <th>399334</th>\n",
       "      <td>-0.005839</td>\n",
       "    </tr>\n",
       "  </tbody>\n",
       "</table>\n",
       "<p>399335 rows × 1 columns</p>\n",
       "</div>"
      ],
      "text/plain": [
       "        target_predictions\n",
       "0                -0.001214\n",
       "1                -0.004780\n",
       "2                -0.001777\n",
       "3                -0.006437\n",
       "4                -0.006558\n",
       "5                -0.002141\n",
       "6                -0.004893\n",
       "7                -0.003272\n",
       "8                -0.005046\n",
       "9                -0.001502\n",
       "10               -0.002799\n",
       "11               -0.004036\n",
       "12               -0.001435\n",
       "13               -0.002935\n",
       "14               -0.002554\n",
       "15               -0.004019\n",
       "16               -0.003665\n",
       "17               -0.001601\n",
       "18               -0.004823\n",
       "19               -0.004216\n",
       "20               -0.005255\n",
       "21               -0.004730\n",
       "22               -0.004168\n",
       "23               -0.003956\n",
       "24               -0.005691\n",
       "25               -0.001797\n",
       "26               -0.002421\n",
       "27               -0.002463\n",
       "28               -0.001887\n",
       "29               -0.003937\n",
       "...                    ...\n",
       "399305           -0.002220\n",
       "399306           -0.003707\n",
       "399307           -0.006316\n",
       "399308           -0.006287\n",
       "399309           -0.005669\n",
       "399310           -0.006209\n",
       "399311           -0.004879\n",
       "399312           -0.002681\n",
       "399313           -0.003939\n",
       "399314           -0.003977\n",
       "399315           -0.003288\n",
       "399316           -0.003543\n",
       "399317           -0.003609\n",
       "399318           -0.005950\n",
       "399319           -0.005411\n",
       "399320           -0.001969\n",
       "399321           -0.003537\n",
       "399322           -0.001459\n",
       "399323           -0.006716\n",
       "399324           -0.002464\n",
       "399325           -0.001492\n",
       "399326           -0.001969\n",
       "399327           -0.003628\n",
       "399328           -0.004633\n",
       "399329           -0.006369\n",
       "399330           -0.004856\n",
       "399331           -0.005538\n",
       "399332           -0.004119\n",
       "399333           -0.000501\n",
       "399334           -0.005839\n",
       "\n",
       "[399335 rows x 1 columns]"
      ]
     },
     "execution_count": 31,
     "metadata": {},
     "output_type": "execute_result"
    }
   ],
   "source": [
    "predictions"
   ]
  },
  {
   "cell_type": "code",
   "execution_count": null,
   "metadata": {},
   "outputs": [],
   "source": []
  }
 ],
 "metadata": {
  "kernelspec": {
   "display_name": "Python 3",
   "language": "python",
   "name": "python3"
  },
  "language_info": {
   "codemirror_mode": {
    "name": "ipython",
    "version": 3
   },
   "file_extension": ".py",
   "mimetype": "text/x-python",
   "name": "python",
   "nbconvert_exporter": "python",
   "pygments_lexer": "ipython3",
   "version": "3.6.8"
  }
 },
 "nbformat": 4,
 "nbformat_minor": 2
}

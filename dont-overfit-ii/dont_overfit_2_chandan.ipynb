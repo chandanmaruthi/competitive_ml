{
 "cells": [
  {
   "cell_type": "code",
   "execution_count": 22,
   "metadata": {},
   "outputs": [],
   "source": [
    "import numpy as np # linear algebra\n",
    "import pandas as pd # data processing, CSV file I/O (e.g. pd.read_csv)\n",
    "from sklearn.metrics import roc_auc_score\n",
    "from sklearn.preprocessing import LabelEncoder, StandardScaler, KBinsDiscretizer\n",
    "from sklearn.compose import ColumnTransformer, make_column_transformer\n",
    "from sklearn.pipeline import make_pipeline\n",
    "from lightgbm import LGBMClassifier\n",
    "from category_encoders import OneHotEncoder\n",
    "from sklearn.model_selection import cross_val_predict\n",
    "from warnings import filterwarnings\n",
    "from sklearn.impute import SimpleImputer\n",
    "from xgboost import XGBClassifier\n",
    "from sklearn.linear_model import LogisticRegression\n",
    "from sklearn.naive_bayes import GaussianNB\n",
    "from sklearn.ensemble import RandomForestClassifier, VotingClassifier\n",
    "from sklearn import svm\n",
    "import os\n",
    "import matplotlib.pyplot as plt\n",
    "import seaborn as sns\n",
    "filterwarnings('ignore')\n"
   ]
  },
  {
   "cell_type": "code",
   "execution_count": 23,
   "metadata": {},
   "outputs": [
    {
     "name": "stdout",
     "output_type": "stream",
     "text": [
      "train data shape (250, 302)\n",
      "test data shape (19750, 301)\n"
     ]
    }
   ],
   "source": [
    "# Load data\n",
    "do_sample = False\n",
    "train = pd.read_csv(\"data/train.csv\")\n",
    "test = pd.read_csv(\"data/test.csv\")\n",
    "print(\"train data shape\", train.shape)\n",
    "print(\"test data shape\", test.shape)\n"
   ]
  },
  {
   "cell_type": "code",
   "execution_count": 24,
   "metadata": {},
   "outputs": [
    {
     "data": {
      "text/html": [
       "<div>\n",
       "<style scoped>\n",
       "    .dataframe tbody tr th:only-of-type {\n",
       "        vertical-align: middle;\n",
       "    }\n",
       "\n",
       "    .dataframe tbody tr th {\n",
       "        vertical-align: top;\n",
       "    }\n",
       "\n",
       "    .dataframe thead th {\n",
       "        text-align: right;\n",
       "    }\n",
       "</style>\n",
       "<table border=\"1\" class=\"dataframe\">\n",
       "  <thead>\n",
       "    <tr style=\"text-align: right;\">\n",
       "      <th></th>\n",
       "      <th>id</th>\n",
       "      <th>target</th>\n",
       "      <th>0</th>\n",
       "      <th>1</th>\n",
       "      <th>2</th>\n",
       "      <th>3</th>\n",
       "      <th>4</th>\n",
       "      <th>5</th>\n",
       "      <th>6</th>\n",
       "      <th>7</th>\n",
       "      <th>...</th>\n",
       "      <th>290</th>\n",
       "      <th>291</th>\n",
       "      <th>292</th>\n",
       "      <th>293</th>\n",
       "      <th>294</th>\n",
       "      <th>295</th>\n",
       "      <th>296</th>\n",
       "      <th>297</th>\n",
       "      <th>298</th>\n",
       "      <th>299</th>\n",
       "    </tr>\n",
       "  </thead>\n",
       "  <tbody>\n",
       "    <tr>\n",
       "      <th>0</th>\n",
       "      <td>0</td>\n",
       "      <td>1.0</td>\n",
       "      <td>-0.098</td>\n",
       "      <td>2.165</td>\n",
       "      <td>0.681</td>\n",
       "      <td>-0.614</td>\n",
       "      <td>1.309</td>\n",
       "      <td>-0.455</td>\n",
       "      <td>-0.236</td>\n",
       "      <td>0.276</td>\n",
       "      <td>...</td>\n",
       "      <td>0.867</td>\n",
       "      <td>1.347</td>\n",
       "      <td>0.504</td>\n",
       "      <td>-0.649</td>\n",
       "      <td>0.672</td>\n",
       "      <td>-2.097</td>\n",
       "      <td>1.051</td>\n",
       "      <td>-0.414</td>\n",
       "      <td>1.038</td>\n",
       "      <td>-1.065</td>\n",
       "    </tr>\n",
       "    <tr>\n",
       "      <th>1</th>\n",
       "      <td>1</td>\n",
       "      <td>0.0</td>\n",
       "      <td>1.081</td>\n",
       "      <td>-0.973</td>\n",
       "      <td>-0.383</td>\n",
       "      <td>0.326</td>\n",
       "      <td>-0.428</td>\n",
       "      <td>0.317</td>\n",
       "      <td>1.172</td>\n",
       "      <td>0.352</td>\n",
       "      <td>...</td>\n",
       "      <td>-0.165</td>\n",
       "      <td>-1.695</td>\n",
       "      <td>-1.257</td>\n",
       "      <td>1.359</td>\n",
       "      <td>-0.808</td>\n",
       "      <td>-1.624</td>\n",
       "      <td>-0.458</td>\n",
       "      <td>-1.099</td>\n",
       "      <td>-0.936</td>\n",
       "      <td>0.973</td>\n",
       "    </tr>\n",
       "  </tbody>\n",
       "</table>\n",
       "<p>2 rows × 302 columns</p>\n",
       "</div>"
      ],
      "text/plain": [
       "   id  target      0      1      2      3      4      5      6      7  ...    \\\n",
       "0   0     1.0 -0.098  2.165  0.681 -0.614  1.309 -0.455 -0.236  0.276  ...     \n",
       "1   1     0.0  1.081 -0.973 -0.383  0.326 -0.428  0.317  1.172  0.352  ...     \n",
       "\n",
       "     290    291    292    293    294    295    296    297    298    299  \n",
       "0  0.867  1.347  0.504 -0.649  0.672 -2.097  1.051 -0.414  1.038 -1.065  \n",
       "1 -0.165 -1.695 -1.257  1.359 -0.808 -1.624 -0.458 -1.099 -0.936  0.973  \n",
       "\n",
       "[2 rows x 302 columns]"
      ]
     },
     "execution_count": 24,
     "metadata": {},
     "output_type": "execute_result"
    }
   ],
   "source": [
    "train.head(2)"
   ]
  },
  {
   "cell_type": "code",
   "execution_count": 25,
   "metadata": {},
   "outputs": [],
   "source": [
    "train_input = train.drop(['id','target'],axis = 1)\n",
    "test_input  = test.drop(['id'],axis = 1)\n",
    "\n",
    "train_labels = train['target']\n",
    "\n",
    "app_train = pd.get_dummies(train_input)\n",
    "app_test = pd.get_dummies(test_input)\n",
    "\n",
    "imp_mean = SimpleImputer(missing_values=np.nan, strategy='mean')\n",
    "imp_mean.fit(app_train)\n",
    "train_imputed = imp_mean.transform(app_train)\n",
    "test_imputed = imp_mean.transform(app_test)\n",
    "\n",
    "scaler = StandardScaler()\n",
    "scaler.fit(train_imputed)\n",
    "train_imputed = scaler.transform(train_imputed)\n",
    "test_imputed = scaler.transform(test_imputed)\n"
   ]
  },
  {
   "cell_type": "code",
   "execution_count": null,
   "metadata": {},
   "outputs": [],
   "source": []
  },
  {
   "cell_type": "code",
   "execution_count": 26,
   "metadata": {},
   "outputs": [
    {
     "name": "stderr",
     "output_type": "stream",
     "text": [
      "[Parallel(n_jobs=-1)]: Using backend ThreadingBackend with 40 concurrent workers.\n",
      "[Parallel(n_jobs=-1)]: Done 100 out of 100 | elapsed:    0.2s finished\n"
     ]
    }
   ],
   "source": [
    "\n",
    "features = list(app_train.columns)\n",
    "random_forest = RandomForestClassifier(n_estimators = 100, random_state = 50, verbose = 1, n_jobs = -1)\n",
    "random_forest.fit(train_imputed,train_labels)\n",
    "feature_importance_values = random_forest.feature_importances_\n",
    "feature_importances = pd.DataFrame({'feature': features, 'importance':feature_importance_values})\n"
   ]
  },
  {
   "cell_type": "code",
   "execution_count": 27,
   "metadata": {},
   "outputs": [
    {
     "data": {
      "image/png": "[encoded data removed]",
      "text/plain": [
       "<Figure size 720x432 with 1 Axes>"
      ]
     },
     "metadata": {
      "needs_background": "light"
     },
     "output_type": "display_data"
    }
   ],
   "source": [
    "def plot_feature_importances(df):\n",
    "    #Sort features according to importance\n",
    "    df = df.sort_values('importance', ascending = False).reset_index()\n",
    "    \n",
    "    #Normalise the feature importances to add up to one\n",
    "    df['importance_normalized'] = df['importance'] / df['importance'].sum()\n",
    "    \n",
    "    #Make a horizontal bar chart of feature importances\n",
    "    plt.figure(figsize = (10,6))\n",
    "    ax = plt.subplot()\n",
    "    \n",
    "    #Need to reverse the index to plot most important on top\n",
    "    ax.barh(list(reversed(list(df.index[:15]))),\n",
    "           df['importance_normalized'].head(15),\n",
    "           align = 'center', edgecolor = 'k')\n",
    "    #Set the yticks and labels\n",
    "    ax.set_yticks(list(reversed(list(df.index[:15]))))\n",
    "    ax.set_yticklabels(df['feature'].head(15))\n",
    "    \n",
    "    #Plot labeling\n",
    "    plt.xlabel('Normalized Importance'); plt.title('Feature Importance')\n",
    "    plt.show()\n",
    "    \n",
    "    return df\n",
    "feature_importances_sorted = plot_feature_importances(feature_importances)"
   ]
  },
  {
   "cell_type": "code",
   "execution_count": 28,
   "metadata": {},
   "outputs": [
    {
     "name": "stdout",
     "output_type": "stream",
     "text": [
      "['33' '65' '24' '217' '117' '201' '298' '91' '295' '209' '164' '199' '227'\n",
      " '137' '56' '268' '214' '43' '144' '80' '189' '266' '139' '48' '230' '111'\n",
      " '26' '225' '275' '237' '207' '19' '123' '228' '165' '82' '276' '250'\n",
      " '277' '73' '192' '265' '272' '116' '289' '255' '17' '94' '7' '0' '119'\n",
      " '156' '12' '131' '285' '169' '147' '242' '247' '16' '170' '149' '240'\n",
      " '234' '291' '252' '89' '279' '195' '138' '13' '166' '47' '127' '52' '120'\n",
      " '288' '18' '148' '208' '141' '130' '155' '180' '51' '44' '101' '129' '23'\n",
      " '113' '37' '150' '132' '173' '202' '76' '239' '58' '163' '257' '215'\n",
      " '221' '40' '292' '284' '108' '226' '135' '4' '97' '9' '39' '191' '145'\n",
      " '77' '96' '11' '194' '152' '267' '204' '53' '66' '142' '259' '27' '30'\n",
      " '160' '231' '270' '98' '248' '42' '8' '278' '110' '185' '114' '256' '153'\n",
      " '206' '14' '238' '1' '271' '220' '84' '280' '106' '198' '162' '178' '100'\n",
      " '134' '258' '161' '253' '246' '154' '29' '62' '177' '68' '286' '67' '83'\n",
      " '200' '236' '78' '122' '118' '21' '171' '151' '197' '86' '70' '72' '283'\n",
      " '109' '38' '85' '103' '282' '175' '32' '74' '269' '244' '205' '287' '6'\n",
      " '45' '121' '90' '69' '203' '55' '264' '25' '167' '183' '95' '243' '105'\n",
      " '63' '281' '186' '140' '262' '211' '235' '213' '49' '88' '157' '294'\n",
      " '251' '249' '158' '92' '46' '187' '102' '179' '299' '104' '133' '87'\n",
      " '245' '273' '15' '168' '181' '35' '196' '60' '233' '2' '61' '54' '22'\n",
      " '188' '176' '223' '5' '193' '263' '218' '59' '224' '34' '232' '41' '128'\n",
      " '212' '174' '71' '172' '75' '293' '241' '50' '143' '31' '219' '229' '159'\n",
      " '125' '296' '126' '222' '254' '64' '190' '81' '93' '3' '261' '107' '297'\n",
      " '57' '20' '112' '136' '260' '216' '79']\n"
     ]
    }
   ],
   "source": [
    "fe_threshold = 0.001\n",
    "selected_features = feature_importances_sorted.query('importance_normalized > {}'.format(fe_threshold))['feature'].values\n",
    "print(selected_features)"
   ]
  },
  {
   "cell_type": "code",
   "execution_count": 29,
   "metadata": {},
   "outputs": [
    {
     "name": "stdout",
     "output_type": "stream",
     "text": [
      "<class 'numpy.ndarray'>\n"
     ]
    }
   ],
   "source": [
    "target_column ='target'\n",
    "id_column = 'id'\n",
    "categorical_cols = [c for c in train_input.columns if train_input[c].dtype in [np.object]]\n",
    "numerical_cols = [c for c in train_input.columns if train_input[c].dtype in [np.float, np.int] and c not in [target_column, id_column]]\n",
    "preprocess = make_column_transformer(\n",
    "    (numerical_cols, make_pipeline(SimpleImputer(), StandardScaler())),\n",
    "    (categorical_cols, OneHotEncoder()))\n",
    "train_input = preprocess.fit_transform(train_input)\n",
    "test_input = preprocess.fit_transform(test_input)\n",
    "print(type(train_input))"
   ]
  },
  {
   "cell_type": "code",
   "execution_count": null,
   "metadata": {},
   "outputs": [],
   "source": []
  },
  {
   "cell_type": "code",
   "execution_count": 33,
   "metadata": {},
   "outputs": [],
   "source": [
    "classifiers = {\n",
    "\"model_lgbm\" : LGBMClassifier(n_jobs=-1,eta=0.01,max_depth=5,max_bin=512,learning_rate=0.01,num_iterations=1000),\n",
    "\"model_xgb\" : XGBClassifier(n_jobs=-1, nthreads=-1),\n",
    "\"model_lr\" : LogisticRegression(n_jobs=-1),\n",
    "\"model_gnb\" : GaussianNB(),\n",
    "\"model_rf\" : RandomForestClassifier(n_jobs=-1, random_state=42)\n",
    "}"
   ]
  },
  {
   "cell_type": "code",
   "execution_count": 34,
   "metadata": {},
   "outputs": [],
   "source": [
    "def get_fitted_models_and_preds(df, labels, models):\n",
    "    ret =[]\n",
    "    for k,v in models.items():\n",
    "        pred = cross_val_predict(v, df, labels, cv=5, method=\"predict_proba\", n_jobs=-1, verbose=20)\n",
    "        model = v.fit(df, labels)\n",
    "        score = roc_auc_score(labels, pred[:,1])\n",
    "        ret.append({'classifier':k, 'score':score, 'preds':pred, 'model': model})\n",
    "        print(\"model {}: {}\".format(k,score))\n",
    "    return ret"
   ]
  },
  {
   "cell_type": "code",
   "execution_count": 35,
   "metadata": {},
   "outputs": [],
   "source": [
    "def predict_models(df, fitted_base_models):\n",
    "    ret_df = pd.DataFrame()\n",
    "    for fitted_base_model in fitted_base_models:\n",
    "        pred = fitted_base_model['model'].predict_proba(df)\n",
    "        ret_df[fitted_base_model['classifier']] = pred[:,1]\n",
    "    return ret_df"
   ]
  },
  {
   "cell_type": "code",
   "execution_count": 36,
   "metadata": {
    "scrolled": true
   },
   "outputs": [
    {
     "name": "stderr",
     "output_type": "stream",
     "text": [
      "[Parallel(n_jobs=-1)]: Using backend LokyBackend with 40 concurrent workers.\n",
      "[Parallel(n_jobs=-1)]: Done   1 tasks      | elapsed:    5.8s\n",
      "[Parallel(n_jobs=-1)]: Done   2 out of   5 | elapsed:    5.8s remaining:    8.8s\n",
      "[Parallel(n_jobs=-1)]: Done   3 out of   5 | elapsed:    5.9s remaining:    3.9s\n",
      "[Parallel(n_jobs=-1)]: Done   5 out of   5 | elapsed:    6.0s remaining:    0.0s\n",
      "[Parallel(n_jobs=-1)]: Done   5 out of   5 | elapsed:    6.0s finished\n"
     ]
    },
    {
     "name": "stdout",
     "output_type": "stream",
     "text": [
      "model model_lgbm: 0.7100694444444443\n"
     ]
    },
    {
     "name": "stderr",
     "output_type": "stream",
     "text": [
      "[Parallel(n_jobs=-1)]: Using backend LokyBackend with 40 concurrent workers.\n",
      "[Parallel(n_jobs=-1)]: Done   1 tasks      | elapsed:    1.8s\n",
      "[Parallel(n_jobs=-1)]: Done   2 out of   5 | elapsed:    1.8s remaining:    2.7s\n",
      "[Parallel(n_jobs=-1)]: Done   3 out of   5 | elapsed:    1.8s remaining:    1.2s\n",
      "[Parallel(n_jobs=-1)]: Done   5 out of   5 | elapsed:    1.8s remaining:    0.0s\n",
      "[Parallel(n_jobs=-1)]: Done   5 out of   5 | elapsed:    1.8s finished\n"
     ]
    },
    {
     "name": "stdout",
     "output_type": "stream",
     "text": [
      "model model_xgb: 0.7004861111111111\n"
     ]
    },
    {
     "name": "stderr",
     "output_type": "stream",
     "text": [
      "[Parallel(n_jobs=-1)]: Using backend LokyBackend with 40 concurrent workers.\n",
      "[Parallel(n_jobs=-1)]: Done   1 tasks      | elapsed:    0.2s\n",
      "[Parallel(n_jobs=-1)]: Done   2 out of   5 | elapsed:    0.2s remaining:    0.3s\n",
      "[Parallel(n_jobs=-1)]: Done   3 out of   5 | elapsed:    0.2s remaining:    0.2s\n",
      "[Parallel(n_jobs=-1)]: Done   5 out of   5 | elapsed:    0.3s remaining:    0.0s\n",
      "[Parallel(n_jobs=-1)]: Done   5 out of   5 | elapsed:    0.3s finished\n",
      "[Parallel(n_jobs=-1)]: Using backend LokyBackend with 40 concurrent workers.\n"
     ]
    },
    {
     "name": "stdout",
     "output_type": "stream",
     "text": [
      "model model_lr: 0.741736111111111\n"
     ]
    },
    {
     "name": "stderr",
     "output_type": "stream",
     "text": [
      "[Parallel(n_jobs=-1)]: Done   1 tasks      | elapsed:    0.2s\n",
      "[Parallel(n_jobs=-1)]: Batch computation too fast (0.1857s.) Setting batch_size=2.\n",
      "[Parallel(n_jobs=-1)]: Done   2 out of   5 | elapsed:    0.2s remaining:    0.3s\n",
      "[Parallel(n_jobs=-1)]: Done   3 out of   5 | elapsed:    0.2s remaining:    0.1s\n",
      "[Parallel(n_jobs=-1)]: Done   5 out of   5 | elapsed:    0.2s remaining:    0.0s\n",
      "[Parallel(n_jobs=-1)]: Done   5 out of   5 | elapsed:    0.2s finished\n",
      "[Parallel(n_jobs=-1)]: Using backend LokyBackend with 40 concurrent workers.\n"
     ]
    },
    {
     "name": "stdout",
     "output_type": "stream",
     "text": [
      "model model_gnb: 0.7038888888888889\n",
      "model model_rf: 0.5668402777777778\n"
     ]
    },
    {
     "name": "stderr",
     "output_type": "stream",
     "text": [
      "[Parallel(n_jobs=-1)]: Done   1 tasks      | elapsed:    0.4s\n",
      "[Parallel(n_jobs=-1)]: Done   2 out of   5 | elapsed:    0.4s remaining:    0.6s\n",
      "[Parallel(n_jobs=-1)]: Done   3 out of   5 | elapsed:    0.4s remaining:    0.3s\n",
      "[Parallel(n_jobs=-1)]: Done   5 out of   5 | elapsed:    0.4s remaining:    0.0s\n",
      "[Parallel(n_jobs=-1)]: Done   5 out of   5 | elapsed:    0.4s finished\n"
     ]
    }
   ],
   "source": [
    "base_models_preds_train = get_fitted_models_and_preds(train_input, train_labels, classifiers)"
   ]
  },
  {
   "cell_type": "code",
   "execution_count": 37,
   "metadata": {},
   "outputs": [
    {
     "name": "stdout",
     "output_type": "stream",
     "text": [
      "   model_gnb  model_lgbm  model_lr  model_rf  model_xgb\n",
      "0   0.999991    0.978889  0.706580       1.0   0.887592\n",
      "1   0.993715    0.897000  0.195855       0.4   0.876891\n",
      "2   0.530346    0.886438  0.165840       0.7   0.885498\n",
      "3   0.997975    0.979355  0.944564       0.7   0.720474\n",
      "4   0.997797    0.777789  0.970883       0.6   0.768202\n",
      "(250, 5)\n",
      "(250,)\n"
     ]
    }
   ],
   "source": [
    "df_base_model_preds_train = pd.DataFrame({base_model_pred_train['classifier']:base_model_pred_train['preds'][:,1] for base_model_pred_train in base_models_preds_train})\n",
    "print(df_base_model_preds_train.head())\n",
    "print(df_base_model_preds_train.shape)\n",
    "print(train_labels.shape)"
   ]
  },
  {
   "cell_type": "code",
   "execution_count": 38,
   "metadata": {},
   "outputs": [],
   "source": [
    "second_level_classifier_gbm = XGBClassifier(\n",
    " #learning_rate = 0.02,\n",
    " n_estimators= 2000,\n",
    " max_depth= 4,\n",
    " min_child_weight= 2,\n",
    " #gamma=1,\n",
    " gamma=0.9,                        \n",
    " subsample=0.8,\n",
    " colsample_bytree=0.8,\n",
    " objective= 'binary:logistic',\n",
    " nthread= -1,\n",
    " scale_pos_weight=1)\n",
    "\n",
    "second_level_model= second_level_classifier_gbm.fit(df_base_model_preds_train, train_labels)\n"
   ]
  },
  {
   "cell_type": "code",
   "execution_count": 39,
   "metadata": {},
   "outputs": [
    {
     "name": "stdout",
     "output_type": "stream",
     "text": [
      "[0.9785459  0.28489077 0.8280892  0.9921725  0.9780226  0.8656173\n",
      " 0.991702   0.97244287 0.8540545  0.88790506 0.01561387 0.9855117\n",
      " 0.96044517 0.09835116 0.04482976 0.9986941  0.78654677 0.11878137\n",
      " 0.9989373  0.9602168  0.8828359  0.9943792  0.02890524 0.7775818\n",
      " 0.8486121  0.84406835 0.99265903 0.8584219  0.9697389  0.6276887\n",
      " 0.8958335  0.9089668  0.85556626 0.90608627 0.98733276 0.91215974\n",
      " 0.8907769  0.9174375  0.11738426 0.7129249  0.99867743 0.9310155\n",
      " 0.82409084 0.06948008 0.950576   0.97067326 0.9113206  0.9024523\n",
      " 0.08143407 0.09681522 0.78844583 0.8740805  0.1262717  0.9225068\n",
      " 0.20662516 0.8679902  0.11574811 0.98271906 0.20938759 0.26373172\n",
      " 0.8637745  0.7253376  0.52488536 0.04986462 0.08124271 0.9240162\n",
      " 0.40056917 0.97426003 0.8963074  0.9895862  0.08885325 0.98969495\n",
      " 0.9881045  0.8962298  0.95176023 0.22181703 0.99066544 0.90206605\n",
      " 0.13961928 0.8447279  0.9080985  0.15721212 0.2413914  0.94571334\n",
      " 0.9349292  0.9944595  0.03696557 0.85229814 0.9190432  0.9735454\n",
      " 0.9689525  0.1964308  0.84427965 0.9147933  0.86957073 0.7978277\n",
      " 0.08576129 0.85011524 0.94748527 0.9866214  0.9899635  0.02136676\n",
      " 0.02136676 0.95058334 0.19438668 0.98802185 0.97764355 0.06996107\n",
      " 0.2952399  0.96718854 0.9615803  0.97558606 0.9630224  0.9869546\n",
      " 0.26496524 0.99420244 0.9878619  0.14424802 0.01789401 0.9324221\n",
      " 0.04063312 0.9460334  0.06821971 0.43837038 0.22588928 0.987922\n",
      " 0.33298898 0.16075535 0.30172163 0.74220514 0.67472655 0.90393126\n",
      " 0.87274003 0.894699   0.15412107 0.9374752  0.01172554 0.96815556\n",
      " 0.9976793  0.14768928 0.94869125 0.10023127 0.94277054 0.13897313\n",
      " 0.9795431  0.9416733  0.88228697 0.92824656 0.15609975 0.8653285\n",
      " 0.23922846 0.8827282  0.8137052  0.25707135 0.29201046 0.91492623\n",
      " 0.89994204 0.23695615 0.2641118  0.85751134 0.9876511  0.09108743\n",
      " 0.97747827 0.912213   0.10676911 0.9797189  0.9689031  0.9952676\n",
      " 0.131524   0.21388166 0.01730594 0.01076515 0.10798214 0.7212665\n",
      " 0.9034515  0.71086645 0.99541986 0.02803793 0.02096726 0.8995622\n",
      " 0.9082481  0.16027036 0.17283413 0.06513168 0.8889293  0.9120732\n",
      " 0.9684181  0.89610475 0.9249815  0.1167909  0.9777905  0.95297414\n",
      " 0.9760025  0.02155353 0.1038402  0.86850363 0.9373222  0.8324453\n",
      " 0.02136676 0.9126665  0.9584009  0.02243849 0.95430076 0.9894571\n",
      " 0.91815317 0.15687242 0.7040561  0.2955747  0.83881205 0.13624291\n",
      " 0.08945346 0.23461837 0.22870928 0.9763535  0.9742166  0.11651598\n",
      " 0.9161056  0.96394974 0.4863753  0.7732046  0.9736971  0.9875887\n",
      " 0.9639986  0.81684107 0.98020303 0.12390204 0.96436465 0.01173195\n",
      " 0.15213887 0.99760926 0.65586543 0.9877506  0.98409545 0.211476\n",
      " 0.27526706 0.9745812  0.873279   0.9311052  0.9073592  0.29837352\n",
      " 0.2891253  0.9897893  0.9595684  0.25938198 0.20369531 0.12033957\n",
      " 0.16803123 0.42472374 0.9810122  0.01678894]\n",
      "0.9998611111111111\n"
     ]
    }
   ],
   "source": [
    "ensemble_preds_train = second_level_model.predict_proba(df_base_model_preds_train)\n",
    "print(ensemble_preds_train[:,1])\n",
    "ensemble_preds_score = roc_auc_score(train_labels, ensemble_preds_train[:,1])\n",
    "print(ensemble_preds_score)\n"
   ]
  },
  {
   "cell_type": "code",
   "execution_count": 43,
   "metadata": {},
   "outputs": [
    {
     "name": "stdout",
     "output_type": "stream",
     "text": [
      "(19750, 5)\n",
      "(19750, 2)\n"
     ]
    }
   ],
   "source": [
    "df_test_base_model_preds = predict_models(test_input, base_models_preds_train)\n",
    "print(df_test_base_model_preds.shape)\n",
    "df_test_base_model_preds_col_ordered = pd.DataFrame()\n",
    "for col in df_base_model_preds_train.columns:\n",
    "    df_test_base_model_preds_col_ordered[col] = df_test_base_model_preds[col]\n",
    "ensemble_preds_test = second_level_classifier_gbm.predict_proba(df_test_base_model_preds_col_ordered)\n",
    "print(ensemble_preds_test.shape)"
   ]
  },
  {
   "cell_type": "code",
   "execution_count": null,
   "metadata": {},
   "outputs": [],
   "source": []
  },
  {
   "cell_type": "code",
   "execution_count": 46,
   "metadata": {},
   "outputs": [
    {
     "name": "stdout",
     "output_type": "stream",
     "text": [
      "(19750, 2)\n",
      "(19750, 2)\n",
      "done\n"
     ]
    }
   ],
   "source": [
    "sub = pd.read_csv(\"data/sample_submission.csv\")\n",
    "print(ensemble_preds_test.shape)\n",
    "print(sub.shape)\n",
    "\n",
    "sub[target_column] = ensemble_preds_test[:,1]\n",
    "sub.to_csv(\"results/submit_results.csv\", index=False)\n",
    "print('done')"
   ]
  },
  {
   "cell_type": "code",
   "execution_count": 50,
   "metadata": {},
   "outputs": [
    {
     "name": "stdout",
     "output_type": "stream",
     "text": [
      "Successfully submitted to Don't Overfit! II"
     ]
    },
    {
     "name": "stderr",
     "output_type": "stream",
     "text": [
      "100%|██████████| 308k/308k [00:01<00:00, 196kB/s] \n"
     ]
    }
   ],
   "source": [
    "%%bash\n",
    "kaggle competitions submit -c dont-overfit-ii -f results/submit_results.csv -m \"initial\""
   ]
  }
 ],
 "metadata": {
  "kernelspec": {
   "display_name": "Python 3",
   "language": "python",
   "name": "python3"
  },
  "language_info": {
   "codemirror_mode": {
    "name": "ipython",
    "version": 3
   },
   "file_extension": ".py",
   "mimetype": "text/x-python",
   "name": "python",
   "nbconvert_exporter": "python",
   "pygments_lexer": "ipython3",
   "version": "3.6.7"
  }
 },
 "nbformat": 4,
 "nbformat_minor": 2
}

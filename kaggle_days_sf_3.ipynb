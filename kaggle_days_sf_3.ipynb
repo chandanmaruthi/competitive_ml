{
 "cells": [
  {
   "cell_type": "code",
   "execution_count": 181,
   "metadata": {},
   "outputs": [],
   "source": [
    "import numpy as np # linear algebra\n",
    "import pandas as pd # data processing, CSV file I/O (e.g. pd.read_csv)\n",
    "from sklearn.metrics import roc_auc_score\n",
    "from sklearn.preprocessing import LabelEncoder, StandardScaler, KBinsDiscretizer\n",
    "from sklearn.compose import ColumnTransformer, make_column_transformer\n",
    "from sklearn.pipeline import make_pipeline\n",
    "from lightgbm import LGBMClassifier\n",
    "from category_encoders import OneHotEncoder\n",
    "from sklearn.model_selection import cross_val_predict\n",
    "from warnings import filterwarnings\n",
    "from sklearn.impute import SimpleImputer\n",
    "from xgboost import XGBClassifier\n",
    "from sklearn.linear_model import LogisticRegression\n",
    "from sklearn.naive_bayes import GaussianNB\n",
    "from sklearn.ensemble import RandomForestClassifier, VotingClassifier\n",
    "from sklearn import svm\n",
    "import os\n",
    "import matplotlib.pyplot as plt\n",
    "import seaborn as sns\n",
    "filterwarnings('ignore')\n"
   ]
  },
  {
   "cell_type": "code",
   "execution_count": 182,
   "metadata": {},
   "outputs": [
    {
     "name": "stdout",
     "output_type": "stream",
     "text": [
      "train data shape (400665, 202)\n",
      "test data shape (399335, 201)\n"
     ]
    }
   ],
   "source": [
    "# Load data\n",
    "do_sample = False\n",
    "train = pd.read_csv(\"data/train.csv\")\n",
    "test = pd.read_csv(\"data/test.csv\")\n",
    "print(\"train data shape\", train.shape)\n",
    "print(\"test data shape\", test.shape)\n"
   ]
  },
  {
   "cell_type": "code",
   "execution_count": 183,
   "metadata": {},
   "outputs": [],
   "source": [
    "train_input = train.drop(['id','target','B_15'],axis = 1)\n",
    "test_input  = test.drop(['id','B_15'],axis = 1)\n",
    "\n",
    "train_labels = train['target']\n",
    "\n",
    "app_train = pd.get_dummies(train_input)\n",
    "app_test = pd.get_dummies(test_input)\n",
    "\n",
    "imp_mean = SimpleImputer(missing_values=np.nan, strategy='mean')\n",
    "imp_mean.fit(app_train)\n",
    "train_imputed = imp_mean.transform(app_train)\n",
    "test_imputed = imp_mean.transform(app_test)\n",
    "\n",
    "scaler = StandardScaler()\n",
    "scaler.fit(train_imputed)\n",
    "train_imputed = scaler.transform(train_imputed)\n",
    "test_imputed = scaler.transform(test_imputed)\n"
   ]
  },
  {
   "cell_type": "code",
   "execution_count": 184,
   "metadata": {},
   "outputs": [
    {
     "name": "stderr",
     "output_type": "stream",
     "text": [
      "[Parallel(n_jobs=-1)]: Using backend ThreadingBackend with 40 concurrent workers.\n",
      "[Parallel(n_jobs=-1)]: Done 100 out of 100 | elapsed:   37.2s finished\n"
     ]
    }
   ],
   "source": [
    "\n",
    "features = list(app_train.columns)\n",
    "random_forest = RandomForestClassifier(n_estimators = 100, random_state = 50, verbose = 1, n_jobs = -1)\n",
    "random_forest.fit(train_imputed,train_labels)\n",
    "feature_importance_values = random_forest.feature_importances_\n",
    "feature_importances = pd.DataFrame({'feature': features, 'importance':feature_importance_values})\n"
   ]
  },
  {
   "cell_type": "code",
   "execution_count": 185,
   "metadata": {},
   "outputs": [
    {
     "data": {
      "image/png": "[encoded data removed]",
      "text/plain": [
       "<Figure size 720x432 with 1 Axes>"
      ]
     },
     "metadata": {
      "needs_background": "light"
     },
     "output_type": "display_data"
    }
   ],
   "source": [
    "def plot_feature_importances(df):\n",
    "    #Sort features according to importance\n",
    "    df = df.sort_values('importance', ascending = False).reset_index()\n",
    "    \n",
    "    #Normalise the feature importances to add up to one\n",
    "    df['importance_normalized'] = df['importance'] / df['importance'].sum()\n",
    "    \n",
    "    #Make a horizontal bar chart of feature importances\n",
    "    plt.figure(figsize = (10,6))\n",
    "    ax = plt.subplot()\n",
    "    \n",
    "    #Need to reverse the index to plot most important on top\n",
    "    ax.barh(list(reversed(list(df.index[:15]))),\n",
    "           df['importance_normalized'].head(15),\n",
    "           align = 'center', edgecolor = 'k')\n",
    "    #Set the yticks and labels\n",
    "    ax.set_yticks(list(reversed(list(df.index[:15]))))\n",
    "    ax.set_yticklabels(df['feature'].head(15))\n",
    "    \n",
    "    #Plot labeling\n",
    "    plt.xlabel('Normalized Importance'); plt.title('Feature Importance')\n",
    "    plt.show()\n",
    "    \n",
    "    return df\n",
    "feature_importances_sorted = plot_feature_importances(feature_importances)"
   ]
  },
  {
   "cell_type": "code",
   "execution_count": 186,
   "metadata": {},
   "outputs": [
    {
     "name": "stdout",
     "output_type": "stream",
     "text": [
      "['B_10' 'B_12' 'B_3' 'B_4' 'B_8' 'B_11' 'B_1' 'B_7' 'B_14_A' 'B_14_B'\n",
      " 'B_9' 'B_2' 'B_13' 'D_40' 'D_34' 'D_66' 'D_142' 'D_166' 'D_145' 'D_56'\n",
      " 'D_138' 'D_6' 'D_13' 'D_152' 'D_116' 'D_117' 'D_121' 'D_132' 'D_26'\n",
      " 'D_17' 'D_1' 'B_6_B' 'B_5_B' 'D_154' 'D_131' 'D_162' 'D_65' 'D_35' 'D_42'\n",
      " 'D_49' 'D_63' 'D_149' 'D_94' 'D_128' 'D_69' 'D_3' 'D_61' 'D_28' 'D_24'\n",
      " 'D_27' 'D_165' 'D_141' 'D_102' 'D_120' 'D_140' 'D_21' 'D_79' 'D_89'\n",
      " 'D_123' 'D_130' 'D_103' 'D_72' 'D_37' 'D_18' 'D_95']\n"
     ]
    }
   ],
   "source": [
    "fe_threshold = 0.001\n",
    "selected_features = feature_importances_sorted.query('importance_normalized > {}'.format(fe_threshold))['feature'].values\n",
    "print(selected_features)"
   ]
  },
  {
   "cell_type": "code",
   "execution_count": 187,
   "metadata": {},
   "outputs": [],
   "source": [
    "train_imputed= pd.DataFrame(train_imputed, columns = app_train.columns)\n",
    "test_imputed= pd.DataFrame(test_imputed, columns= app_test.columns)\n",
    "train_imputed=pd.concat([train_imputed[selected_features], train_labels])\n",
    "test_imputed=test_imputed[selected_features]"
   ]
  },
  {
   "cell_type": "code",
   "execution_count": 188,
   "metadata": {},
   "outputs": [
    {
     "name": "stdout",
     "output_type": "stream",
     "text": [
      "<class 'numpy.ndarray'>\n"
     ]
    }
   ],
   "source": [
    "target_column ='target'\n",
    "id_column = 'id'\n",
    "categorical_cols = [c for c in train_input.columns if train_input[c].dtype in [np.object]]\n",
    "numerical_cols = [c for c in train_input.columns if train_input[c].dtype in [np.float, np.int] and c not in [target_column, id_column]]\n",
    "preprocess = make_column_transformer(\n",
    "    (numerical_cols, make_pipeline(SimpleImputer(), StandardScaler())),\n",
    "    (categorical_cols, OneHotEncoder()))\n",
    "train_input = preprocess.fit_transform(train_input)\n",
    "test_input = preprocess.fit_transform(test_input)\n",
    "print(type(train_input))"
   ]
  },
  {
   "cell_type": "code",
   "execution_count": 189,
   "metadata": {},
   "outputs": [],
   "source": [
    "models = {\n",
    "\"model_lgbm\" : LGBMClassifier(n_jobs=-1,eta=0.01,max_depth=5,max_bin=512,learning_rate=0.01,num_iterations=1000),\n",
    "\"model_xgb\" : XGBClassifier(n_jobs=-1, nthreads=-1),\n",
    "\"model_lr\" : LogisticRegression(n_jobs=-1),\n",
    "\"model_gnb\" : GaussianNB(),\n",
    "\"model_rf\" : RandomForestClassifier(n_jobs=-1, random_state=42)\n",
    "}"
   ]
  },
  {
   "cell_type": "code",
   "execution_count": 190,
   "metadata": {},
   "outputs": [],
   "source": [
    "def compare_models(df, labels, models):\n",
    "    scores = {}\n",
    "    preds = {}\n",
    "    for k,v in models.items():\n",
    "        pred = cross_val_predict(v, df, labels, cv=5, method=\"predict_proba\", n_jobs=-1, verbose=20)\n",
    "        score = roc_auc_score(labels, pred[:,1])\n",
    "        scores[k] = score\n",
    "        preds[k] = pred\n",
    "        print(\"model {}: {}\".format(k,score))\n",
    "    return scores, preds\n",
    "\n"
   ]
  },
  {
   "cell_type": "code",
   "execution_count": 191,
   "metadata": {
    "scrolled": true
   },
   "outputs": [
    {
     "name": "stderr",
     "output_type": "stream",
     "text": [
      "[Parallel(n_jobs=-1)]: Using backend LokyBackend with 40 concurrent workers.\n",
      "[Parallel(n_jobs=-1)]: Done   1 tasks      | elapsed:  5.0min\n",
      "[Parallel(n_jobs=-1)]: Done   2 out of   5 | elapsed:  5.1min remaining:  7.7min\n",
      "[Parallel(n_jobs=-1)]: Done   3 out of   5 | elapsed:  5.2min remaining:  3.4min\n",
      "[Parallel(n_jobs=-1)]: Done   5 out of   5 | elapsed:  5.3min remaining:    0.0s\n",
      "[Parallel(n_jobs=-1)]: Done   5 out of   5 | elapsed:  5.3min finished\n",
      "[Parallel(n_jobs=-1)]: Using backend LokyBackend with 40 concurrent workers.\n"
     ]
    },
    {
     "name": "stdout",
     "output_type": "stream",
     "text": [
      "model model_lgbm: 0.6347207560460116\n"
     ]
    },
    {
     "name": "stderr",
     "output_type": "stream",
     "text": [
      "[Parallel(n_jobs=-1)]: Done   1 tasks      | elapsed:  4.1min\n",
      "[Parallel(n_jobs=-1)]: Done   2 out of   5 | elapsed:  4.1min remaining:  6.1min\n",
      "[Parallel(n_jobs=-1)]: Done   3 out of   5 | elapsed:  4.5min remaining:  3.0min\n",
      "[Parallel(n_jobs=-1)]: Done   5 out of   5 | elapsed:  4.7min remaining:    0.0s\n",
      "[Parallel(n_jobs=-1)]: Done   5 out of   5 | elapsed:  4.7min finished\n"
     ]
    },
    {
     "name": "stdout",
     "output_type": "stream",
     "text": [
      "model model_xgb: 0.6320448579383714\n"
     ]
    },
    {
     "name": "stderr",
     "output_type": "stream",
     "text": [
      "[Parallel(n_jobs=-1)]: Using backend LokyBackend with 40 concurrent workers.\n",
      "[Parallel(n_jobs=-1)]: Done   1 tasks      | elapsed:  1.6min\n",
      "[Parallel(n_jobs=-1)]: Done   2 out of   5 | elapsed:  1.6min remaining:  2.4min\n",
      "[Parallel(n_jobs=-1)]: Done   3 out of   5 | elapsed:  1.8min remaining:  1.2min\n",
      "[Parallel(n_jobs=-1)]: Done   5 out of   5 | elapsed:  1.8min remaining:    0.0s\n",
      "[Parallel(n_jobs=-1)]: Done   5 out of   5 | elapsed:  1.8min finished\n",
      "[Parallel(n_jobs=-1)]: Using backend LokyBackend with 40 concurrent workers.\n"
     ]
    },
    {
     "name": "stdout",
     "output_type": "stream",
     "text": [
      "model model_lr: 0.6145458666139011\n"
     ]
    },
    {
     "name": "stderr",
     "output_type": "stream",
     "text": [
      "[Parallel(n_jobs=-1)]: Done   1 tasks      | elapsed:   12.2s\n",
      "[Parallel(n_jobs=-1)]: Done   2 out of   5 | elapsed:   12.3s remaining:   18.4s\n",
      "[Parallel(n_jobs=-1)]: Done   3 out of   5 | elapsed:   12.4s remaining:    8.3s\n",
      "[Parallel(n_jobs=-1)]: Done   5 out of   5 | elapsed:   12.4s remaining:    0.0s\n",
      "[Parallel(n_jobs=-1)]: Done   5 out of   5 | elapsed:   12.4s finished\n",
      "[Parallel(n_jobs=-1)]: Using backend LokyBackend with 40 concurrent workers.\n"
     ]
    },
    {
     "name": "stdout",
     "output_type": "stream",
     "text": [
      "model model_gnb: 0.5616465853649859\n"
     ]
    },
    {
     "name": "stderr",
     "output_type": "stream",
     "text": [
      "[Parallel(n_jobs=-1)]: Done   1 tasks      | elapsed:   16.5s\n",
      "[Parallel(n_jobs=-1)]: Done   2 out of   5 | elapsed:   17.0s remaining:   25.5s\n",
      "[Parallel(n_jobs=-1)]: Done   3 out of   5 | elapsed:   19.8s remaining:   13.2s\n"
     ]
    },
    {
     "name": "stdout",
     "output_type": "stream",
     "text": [
      "model model_rf: 0.5235734255062607\n"
     ]
    },
    {
     "name": "stderr",
     "output_type": "stream",
     "text": [
      "[Parallel(n_jobs=-1)]: Done   5 out of   5 | elapsed:   20.9s remaining:    0.0s\n",
      "[Parallel(n_jobs=-1)]: Done   5 out of   5 | elapsed:   20.9s finished\n"
     ]
    }
   ],
   "source": [
    "scores, preds = compare_models(train_input, train_labels, models)"
   ]
  },
  {
   "cell_type": "code",
   "execution_count": 196,
   "metadata": {},
   "outputs": [],
   "source": [
    "df = pd.DataFrame({k:v[:,1] for k,v in preds.items()})"
   ]
  },
  {
   "cell_type": "code",
   "execution_count": 197,
   "metadata": {},
   "outputs": [
    {
     "name": "stdout",
     "output_type": "stream",
     "text": [
      "0.6388095972670506\n"
     ]
    }
   ],
   "source": [
    "weights  = {\"model_gnb\":0.00,\"model_lgbm\":0.4,\"model_lr\":0.3,\"model_rf\":0.00,\"model_xgb\":.3}\n",
    "df[\"target\"] =(df[\"model_lgbm\"]*weights[\"model_lgbm\"])+(df[\"model_xgb\"]*weights[\"model_xgb\"])+(df[\"model_lr\"]*weights[\"model_lr\"])+(df[\"model_gnb\"]*weights[\"model_gnb\"])+(df[\"model_rf\"]*weights[\"model_rf\"])\n",
    "df.head(10)\n",
    "ensemble_score = roc_auc_score(train_labels, df[\"target\"])\n",
    "print(ensemble_score)"
   ]
  },
  {
   "cell_type": "code",
   "execution_count": null,
   "metadata": {},
   "outputs": [],
   "source": [
    "def predict_models(df,train_labels, test_df, models):\n",
    "    preds = {}\n",
    "    for k,v in models.items():\n",
    "        model = v.fit(df, train_labels) \n",
    "        pred= model.predict_proba(test_df)\n",
    "        preds[k] = pred\n",
    "    return preds\n",
    "test_preds = predict_models(train_input, train_labels,test_input, models)\n",
    "df_test_preds = pd.DataFrame({k:v[:,1] for k,v in preds.items()})\n",
    "df_test_preds[\"target\"] =(df[\"model_lgbm\"]*weights[\"model_lgbm\"])+(df[\"model_xgb\"]*weights[\"model_xgb\"])+(df[\"model_lr\"]*weights[\"model_lr\"])+(df[\"model_gnb\"]*weights[\"model_gnb\"])+(df[\"model_rf\"]*weights[\"model_rf\"])\n"
   ]
  },
  {
   "cell_type": "code",
   "execution_count": 199,
   "metadata": {},
   "outputs": [
    {
     "name": "stdout",
     "output_type": "stream",
     "text": [
      "done\n"
     ]
    }
   ],
   "source": [
    "sub = pd.read_csv(\"data/sample_submission.csv\")\n",
    "sub[target_column] = df_test_preds[\"target\"]\n",
    "sub.to_csv(\"results/submit_results.csv\", index=False)\n",
    "print('done')"
   ]
  },
  {
   "cell_type": "code",
   "execution_count": 200,
   "metadata": {},
   "outputs": [
    {
     "name": "stdout",
     "output_type": "stream",
     "text": [
      "Successfully submitted to KaggleDays SF Hackathon"
     ]
    },
    {
     "name": "stderr",
     "output_type": "stream",
     "text": [
      "\r",
      "  0%|          | 0.00/10.7M [00:00<?, ?B/s]\r",
      "  0%|          | 8.00k/10.7M [00:00<03:45, 49.6kB/s]\r",
      "  1%|▏         | 160k/10.7M [00:00<02:38, 69.7kB/s] \r",
      " 16%|█▌        | 1.73M/10.7M [00:00<01:34, 99.3kB/s]\r",
      " 49%|████▉     | 5.29M/10.7M [00:00<00:39, 142kB/s] \r",
      " 83%|████████▎ | 8.85M/10.7M [00:00<00:09, 202kB/s]\r",
      "100%|██████████| 10.7M/10.7M [00:02<00:00, 5.11MB/s]\n"
     ]
    }
   ],
   "source": [
    "%%bash\n",
    "kaggle competitions submit -c kaggledays-sf-hackathon -f ./results/submit_results.csv -m \"crawl\""
   ]
  }
 ],
 "metadata": {
  "kernelspec": {
   "display_name": "Python 3",
   "language": "python",
   "name": "python3"
  },
  "language_info": {
   "codemirror_mode": {
    "name": "ipython",
    "version": 3
   },
   "file_extension": ".py",
   "mimetype": "text/x-python",
   "name": "python",
   "nbconvert_exporter": "python",
   "pygments_lexer": "ipython3",
   "version": "3.6.7"
  }
 },
 "nbformat": 4,
 "nbformat_minor": 2
}

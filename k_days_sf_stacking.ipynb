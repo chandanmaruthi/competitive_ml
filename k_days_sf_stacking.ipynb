{
 "cells": [
  {
   "cell_type": "code",
   "execution_count": 1,
   "metadata": {},
   "outputs": [],
   "source": [
    "import numpy as np # linear algebra\n",
    "import pandas as pd # data processing, CSV file I/O (e.g. pd.read_csv)\n",
    "from sklearn.metrics import roc_auc_score\n",
    "from sklearn.preprocessing import LabelEncoder, StandardScaler, KBinsDiscretizer\n",
    "from sklearn.compose import ColumnTransformer, make_column_transformer\n",
    "from sklearn.pipeline import make_pipeline\n",
    "from lightgbm import LGBMClassifier\n",
    "from category_encoders import OneHotEncoder\n",
    "from sklearn.model_selection import cross_val_predict\n",
    "from warnings import filterwarnings\n",
    "from sklearn.impute import SimpleImputer\n",
    "from xgboost import XGBClassifier\n",
    "from sklearn.linear_model import LogisticRegression\n",
    "from sklearn.naive_bayes import GaussianNB\n",
    "from sklearn.ensemble import RandomForestClassifier, VotingClassifier\n",
    "from sklearn import svm\n",
    "import os\n",
    "import matplotlib.pyplot as plt\n",
    "import seaborn as sns\n",
    "\n",
    "filterwarnings('ignore')\n"
   ]
  },
  {
   "cell_type": "code",
   "execution_count": 2,
   "metadata": {},
   "outputs": [
    {
     "data": {
      "text/plain": [
       "'0.20.3'"
      ]
     },
     "execution_count": 2,
     "metadata": {},
     "output_type": "execute_result"
    }
   ],
   "source": [
    "import sklearn\n",
    "from sklearn.preprocessing import LabelEncoder, StandardScaler, KBinsDiscretizer\n",
    "\n",
    "sklearn.__version__"
   ]
  },
  {
   "cell_type": "code",
   "execution_count": 3,
   "metadata": {},
   "outputs": [
    {
     "name": "stdout",
     "output_type": "stream",
     "text": [
      "train data shape (40066, 202)\n",
      "test data shape (399335, 201)\n"
     ]
    }
   ],
   "source": [
    "# Load data\n",
    "do_sample = True\n",
    "train = pd.read_csv(\"data/train.csv\")\n",
    "test = pd.read_csv(\"data/test.csv\")\n",
    "\n",
    "if do_sample:\n",
    "    train = train.sample(frac=0.1, random_state=1)\n",
    "    \n",
    "\n",
    "print(\"train data shape\", train.shape)\n",
    "print(\"test data shape\", test.shape)\n"
   ]
  },
  {
   "cell_type": "code",
   "execution_count": 4,
   "metadata": {},
   "outputs": [],
   "source": [
    "# train[\"A_avg\"] = (train[\"A_1\"]+train[\"A_2\"]) / 2\n",
    "# for i in range(165):\n",
    "#     train[\"XD_\"+str(i+1)+str(i+2)] = (train[\"D_\"+str(i+1)]+train[\"D_\"+str(i+2)])/2 \n",
    "    \n",
    "# train.fillna(value=-1)\n",
    "# test.fillna(value=-1)\n",
    "\n",
    "# target_column = \"target\"\n",
    "# id_column = \"id\"\n",
    "# categorical_cols = [c for c in test.columns if test[c].dtype in [np.object]]\n",
    "# numerical_cols = [c for c in test.columns if test[c].dtype in [np.float, np.int] and c not in [target_column, id_column]]\n",
    "# print(\"Number of features\", len(categorical_cols)+len(numerical_cols))\n"
   ]
  },
  {
   "cell_type": "code",
   "execution_count": 5,
   "metadata": {},
   "outputs": [],
   "source": [
    "train_input = train.drop(['id','target','B_15'],axis = 1)\n",
    "test_input  = test.drop(['id','B_15'],axis = 1)\n",
    "\n",
    "train_labels = train['target']\n",
    "\n",
    "app_train = pd.get_dummies(train_input)\n",
    "app_test = pd.get_dummies(test_input)\n",
    "\n",
    "imp_mean = SimpleImputer(missing_values=np.nan, strategy='mean')\n",
    "imp_mean.fit(app_train)\n",
    "train_imputed = imp_mean.transform(app_train)\n",
    "test_imputed = imp_mean.transform(app_test)\n",
    "\n",
    "scaler = StandardScaler()\n",
    "scaler.fit(train_imputed)\n",
    "train_imputed = scaler.transform(train_imputed)\n",
    "test_imputed = scaler.transform(test_imputed)\n"
   ]
  },
  {
   "cell_type": "code",
   "execution_count": 6,
   "metadata": {},
   "outputs": [
    {
     "name": "stderr",
     "output_type": "stream",
     "text": [
      "[Parallel(n_jobs=-1)]: Using backend ThreadingBackend with 40 concurrent workers.\n",
      "[Parallel(n_jobs=-1)]: Done 100 out of 100 | elapsed:    2.0s finished\n"
     ]
    }
   ],
   "source": [
    "\n",
    "features = list(app_train.columns)\n",
    "random_forest = RandomForestClassifier(n_estimators = 100, random_state = 50, verbose = 1, n_jobs = -1)\n",
    "random_forest.fit(train_imputed,train_labels)\n",
    "feature_importance_values = random_forest.feature_importances_\n",
    "feature_importances = pd.DataFrame({'feature': features, 'importance':feature_importance_values})\n"
   ]
  },
  {
   "cell_type": "code",
   "execution_count": 7,
   "metadata": {},
   "outputs": [
    {
     "data": {
      "image/png": "[encoded data removed]",
      "text/plain": [
       "<Figure size 720x432 with 1 Axes>"
      ]
     },
     "metadata": {
      "needs_background": "light"
     },
     "output_type": "display_data"
    }
   ],
   "source": [
    "def plot_feature_importances(df):\n",
    "    #Sort features according to importance\n",
    "    df = df.sort_values('importance', ascending = False).reset_index()\n",
    "    \n",
    "    #Normalise the feature importances to add up to one\n",
    "    df['importance_normalized'] = df['importance'] / df['importance'].sum()\n",
    "    \n",
    "    #Make a horizontal bar chart of feature importances\n",
    "    plt.figure(figsize = (10,6))\n",
    "    ax = plt.subplot()\n",
    "    \n",
    "    #Need to reverse the index to plot most important on top\n",
    "    ax.barh(list(reversed(list(df.index[:15]))),\n",
    "           df['importance_normalized'].head(15),\n",
    "           align = 'center', edgecolor = 'k')\n",
    "    #Set the yticks and labels\n",
    "    ax.set_yticks(list(reversed(list(df.index[:15]))))\n",
    "    ax.set_yticklabels(df['feature'].head(15))\n",
    "    \n",
    "    #Plot labeling\n",
    "    plt.xlabel('Normalized Importance'); plt.title('Feature Importance')\n",
    "    plt.show()\n",
    "    \n",
    "    return df\n",
    "feature_importances_sorted = plot_feature_importances(feature_importances)"
   ]
  },
  {
   "cell_type": "code",
   "execution_count": 8,
   "metadata": {},
   "outputs": [
    {
     "name": "stdout",
     "output_type": "stream",
     "text": [
      "['B_10' 'B_12' 'B_3' 'B_4' 'B_8' 'B_1' 'B_11' 'B_14_B' 'B_14_A' 'B_7'\n",
      " 'D_40' 'D_145' 'D_166' 'D_116' 'D_138' 'D_56' 'D_142' 'D_34' 'D_66'\n",
      " 'D_13' 'D_152' 'D_117' 'D_26' 'D_6' 'D_1' 'D_17' 'D_132' 'B_9' 'D_121'\n",
      " 'B_13' 'D_154' 'B_2' 'D_120' 'B_5_B' 'D_162' 'D_29' 'D_78' 'D_85' 'D_35'\n",
      " 'D_144' 'D_42' 'D_103' 'D_27' 'D_47' 'D_72' 'D_65' 'D_3' 'D_30' 'D_160'\n",
      " 'D_140' 'D_14' 'D_141' 'D_50' 'C_14' 'D_146' 'D_163' 'D_71' 'D_159' 'C_8'\n",
      " 'D_12' 'D_94' 'D_67' 'D_86' 'D_125' 'D_62' 'D_97' 'D_131' 'D_63' 'D_115'\n",
      " 'D_101' 'D_164' 'D_126' 'D_96' 'D_128' 'D_165' 'D_139' 'D_37' 'D_70'\n",
      " 'D_114' 'D_149' 'D_157' 'D_88' 'D_161' 'D_111' 'C_9' 'D_93' 'D_91'\n",
      " 'D_100' 'D_44' 'D_16' 'D_18' 'D_124' 'C_12' 'D_89' 'D_108' 'D_31' 'D_143'\n",
      " 'D_46' 'D_20' 'D_90' 'D_45' 'D_95' 'D_134' 'D_98' 'C_1' 'C_3' 'D_82'\n",
      " 'D_135' 'D_137' 'D_57' 'D_130' 'D_28' 'D_11' 'D_48' 'D_64' 'C_11' 'D_39'\n",
      " 'D_118' 'D_22' 'D_21' 'C_16' 'B_6_B' 'D_112' 'D_2' 'D_61' 'D_155' 'D_68'\n",
      " 'D_127' 'D_19' 'D_76' 'D_129' 'D_158' 'D_69' 'D_49' 'D_7' 'D_15' 'D_8'\n",
      " 'D_33' 'D_79' 'D_84' 'D_123' 'D_102' 'C_4' 'D_58' 'D_147' 'D_153' 'D_51'\n",
      " 'D_32' 'C_5' 'D_80' 'C_17' 'D_60' 'C_6' 'D_25' 'D_43' 'C_10' 'D_24'\n",
      " 'D_74' 'D_9' 'D_105' 'D_38' 'D_81' 'D_113' 'B_6_A' 'D_110' 'D_151' 'D_73'\n",
      " 'D_109' 'D_150' 'D_148' 'D_99' 'D_10' 'D_122' 'C_15' 'D_133' 'D_53'\n",
      " 'D_156' 'D_136' 'D_54' 'D_52' 'A_1' 'D_23' 'C_2' 'D_59' 'D_87' 'D_75'\n",
      " 'D_55' 'C_7' 'D_92' 'D_41' 'D_36' 'C_13' 'D_119' 'D_107' 'D_106' 'A_2'\n",
      " 'D_77']\n"
     ]
    }
   ],
   "source": [
    "fe_threshold = 0.001\n",
    "#print(feature_importances_sorted.query('importance_normalized>{}'.format(fe_threshold)))\n",
    "selected_features = feature_importances_sorted.query('importance_normalized > {}'.format(fe_threshold))['feature'].values\n",
    "print(selected_features)"
   ]
  },
  {
   "cell_type": "code",
   "execution_count": 9,
   "metadata": {},
   "outputs": [
    {
     "name": "stdout",
     "output_type": "stream",
     "text": [
      "Index(['A_1', 'A_2', 'B_1', 'B_10', 'B_11', 'B_12', 'B_13', 'B_14_A', 'B_14_B',\n",
      "       'B_2',\n",
      "       ...\n",
      "       'D_91', 'D_92', 'D_93', 'D_94', 'D_95', 'D_96', 'D_97', 'D_98', 'D_99',\n",
      "       'target'],\n",
      "      dtype='object', length=198)\n"
     ]
    }
   ],
   "source": [
    "train_imputed= pd.DataFrame(train_imputed, columns = app_train.columns)\n",
    "test_imputed= pd.DataFrame(test_imputed, columns= app_test.columns)\n",
    "train=pd.concat([train_imputed[selected_features], pd.DataFrame({'target':train_labels})])\n",
    "test=test_imputed[selected_features]\n",
    "print(train.columns)"
   ]
  },
  {
   "cell_type": "code",
   "execution_count": 10,
   "metadata": {},
   "outputs": [],
   "source": [
    "target_column ='target'\n",
    "id_column = 'id'\n",
    "categorical_cols = [c for c in test.columns if test[c].dtype in [np.object]]\n",
    "numerical_cols = [c for c in test.columns if test[c].dtype in [np.float, np.int] and c not in [target_column, id_column]]\n",
    "preprocess = make_column_transformer(\n",
    "    (numerical_cols, make_pipeline(SimpleImputer(), StandardScaler())),\n",
    "    (categorical_cols, OneHotEncoder()))"
   ]
  },
  {
   "cell_type": "code",
   "execution_count": 11,
   "metadata": {},
   "outputs": [],
   "source": [
    "column_transformer = ColumnTransformer([\n",
    "        ('num', StandardScaler(), numerical_cols),\n",
    "        ('cat', OneHotEncoder(), categorical_cols)\n",
    "    ])"
   ]
  },
  {
   "cell_type": "code",
   "execution_count": null,
   "metadata": {},
   "outputs": [
    {
     "name": "stderr",
     "output_type": "stream",
     "text": [
      "[Parallel(n_jobs=-1)]: Using backend LokyBackend with 40 concurrent workers.\n"
     ]
    }
   ],
   "source": [
    "classifier_lgbm = make_pipeline(preprocess,LGBMClassifier(n_jobs=30,learning_rate=0.02,num_tree=100,lambda_l1=5,max_bin=512))\n",
    "oof_pred_lgbm = cross_val_predict(classifier_lgbm, train, train[target_column],cv=5,method=\"predict_proba\",n_jobs=-1,verbose=20)"
   ]
  },
  {
   "cell_type": "code",
   "execution_count": null,
   "metadata": {},
   "outputs": [],
   "source": [
    "classifier_xgb = make_pipeline(preprocess, XGBClassifier(n_jobs=30, nthreads=-1))\n",
    "oof_pred_xgb = cross_val_predict(classifier_xgb, train, train[target_column],cv=5,method=\"predict_proba\",n_jobs=-1,verbose=20)"
   ]
  },
  {
   "cell_type": "code",
   "execution_count": null,
   "metadata": {},
   "outputs": [],
   "source": [
    "classifier_lr = make_pipeline(preprocess,LogisticRegression(n_jobs=30))\n",
    "oof_pred_lr = cross_val_predict(classifier_lr, train, train[target_column],cv=5,method=\"predict_proba\",n_jobs=-1,verbose=20)"
   ]
  },
  {
   "cell_type": "code",
   "execution_count": null,
   "metadata": {},
   "outputs": [],
   "source": [
    "classifier_gnb = make_pipeline(preprocess, GaussianNB())\n",
    "oof_pred_gnb = cross_val_predict(classifier_gnb, train, train[target_column],cv=5,method=\"predict_proba\",n_jobs=30,verbose=20)"
   ]
  },
  {
   "cell_type": "code",
   "execution_count": null,
   "metadata": {},
   "outputs": [],
   "source": [
    "#classifier_rf = make_pipeline(preprocess,RandomForestClassifier(random_state=42))\n",
    "#oof_pred_rf = cross_val_predict(classifier_rf, train, train[target_column],cv=5,method=\"predict_proba\",n_jobs=-1,verbose=20)"
   ]
  },
  {
   "cell_type": "code",
   "execution_count": null,
   "metadata": {},
   "outputs": [],
   "source": [
    "#classifier_svm = make_pipeline(preprocess, svm.SVC(random_state=42))\n",
    "#oof_pred_svm = cross_val_predict(classifier_svm, train, train[target_column],cv=5,method=\"predict_proba\",n_jobs=-1,verbose=20)"
   ]
  },
  {
   "cell_type": "code",
   "execution_count": null,
   "metadata": {},
   "outputs": [],
   "source": [
    "pred ={'target': train[target_column] ,'lgbm':oof_pred_lgbm[:,0], 'xgb':oof_pred_xgb[:,0], 'lr': oof_pred_lr[:,0], 'gnb':oof_pred_gnb[:,0]}\n",
    "base_predictions = pd.DataFrame(pred)\n",
    "corr = base_predictions.corr()\n",
    "# Set up the matplotlib figure\n",
    "f, ax = plt.subplots(figsize=(11, 9))\n",
    "\n",
    "# Generate a custom diverging colormap\n",
    "cmap = sns.diverging_palette(220, 10, as_cmap=True)\n",
    "\n",
    "# Draw the heatmap with the mask and correct aspect ratio\n",
    "sns.heatmap(corr, cmap=cmap, vmax=.3, center=0,\n",
    "            square=True, linewidths=.5, cbar_kws={\"shrink\": .5})\n",
    "\n"
   ]
  },
  {
   "cell_type": "code",
   "execution_count": null,
   "metadata": {},
   "outputs": [],
   "source": [
    "\n",
    "voting_classifier = VotingClassifier(estimators=[\n",
    "    ('lgbm', classifier_lgbm), \n",
    "    ('xgb', classifier_xgb), \n",
    "    ('lr',classifier_lr), \n",
    "    ('gnb', classifier_gnb)],\n",
    "                 voting='soft', n_jobs=30)"
   ]
  },
  {
   "cell_type": "code",
   "execution_count": null,
   "metadata": {},
   "outputs": [],
   "source": [
    "train = pd.read_csv(\"data/train.csv\")\n",
    "train=pd.concat([train_imputed[selected_features], pd.DataFrame({'target':train_labels})])\n",
    "test=test_imputed[selected_features]\n",
    "oof_pred = cross_val_predict(voting_classifier, train, train[target_column],cv=5,method=\"predict_proba\",n_jobs=30,verbose=20)\n",
    "print(\"Cross validation AUC {:.4f}\".format(roc_auc_score(train[target_column], oof_pred[:,1])))"
   ]
  },
  {
   "cell_type": "code",
   "execution_count": null,
   "metadata": {},
   "outputs": [],
   "source": [
    "voting_classifier.fit(train, train[target_column])"
   ]
  },
  {
   "cell_type": "code",
   "execution_count": 55,
   "metadata": {},
   "outputs": [
    {
     "name": "stdout",
     "output_type": "stream",
     "text": [
      "done\n"
     ]
    }
   ],
   "source": [
    "test_preds = voting_classifier.predict_proba(test)[:,1]\n",
    "sub = pd.read_csv(\"data/sample_submission.csv\")\n",
    "sub[target_column] = test_preds\n",
    "sub.to_csv(\"results/submit_results.csv\", index=False)\n",
    "print('done')"
   ]
  },
  {
   "cell_type": "code",
   "execution_count": 56,
   "metadata": {},
   "outputs": [
    {
     "name": "stdout",
     "output_type": "stream",
     "text": [
      "Successfully submitted to KaggleDays SF Hackathon"
     ]
    },
    {
     "name": "stderr",
     "output_type": "stream",
     "text": [
      "100%|██████████| 10.1M/10.1M [00:02<00:00, 4.09MB/s]\n"
     ]
    }
   ],
   "source": [
    "%%bash\n",
    "kaggle competitions submit -c kaggledays-sf-hackathon -f results/submit_results.csv -m date"
   ]
  }
 ],
 "metadata": {
  "kernelspec": {
   "display_name": "Python 3",
   "language": "python",
   "name": "python3"
  },
  "language_info": {
   "codemirror_mode": {
    "name": "ipython",
    "version": 3
   },
   "file_extension": ".py",
   "mimetype": "text/x-python",
   "name": "python",
   "nbconvert_exporter": "python",
   "pygments_lexer": "ipython3",
   "version": "3.6.7"
  }
 },
 "nbformat": 4,
 "nbformat_minor": 2
}

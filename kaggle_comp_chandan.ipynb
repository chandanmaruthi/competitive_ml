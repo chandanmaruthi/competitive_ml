{
 "cells": [
  {
   "cell_type": "code",
   "execution_count": 85,
   "metadata": {},
   "outputs": [],
   "source": [
    "import pandas as pd\n",
    "\n",
    "train_df = pd.read_csv(\"./data/train.csv\")\n",
    "test_df = pd.read_csv(\"data/test.csv\")\n"
   ]
  },
  {
   "cell_type": "code",
   "execution_count": 86,
   "metadata": {},
   "outputs": [
    {
     "data": {
      "text/plain": [
       "(399335, 35)"
      ]
     },
     "execution_count": 86,
     "metadata": {},
     "output_type": "execute_result"
    }
   ],
   "source": [
    "train_df.shape\n",
    "test_df.shape\n"
   ]
  },
  {
   "cell_type": "code",
   "execution_count": 87,
   "metadata": {},
   "outputs": [
    {
     "data": {
      "text/html": [
       "<div>\n",
       "<style scoped>\n",
       "    .dataframe tbody tr th:only-of-type {\n",
       "        vertical-align: middle;\n",
       "    }\n",
       "\n",
       "    .dataframe tbody tr th {\n",
       "        vertical-align: top;\n",
       "    }\n",
       "\n",
       "    .dataframe thead th {\n",
       "        text-align: right;\n",
       "    }\n",
       "</style>\n",
       "<table border=\"1\" class=\"dataframe\">\n",
       "  <thead>\n",
       "    <tr style=\"text-align: right;\">\n",
       "      <th></th>\n",
       "      <th>id</th>\n",
       "      <th>target</th>\n",
       "      <th>A_1</th>\n",
       "      <th>A_2</th>\n",
       "      <th>B_1</th>\n",
       "      <th>B_2</th>\n",
       "      <th>B_3</th>\n",
       "      <th>B_4</th>\n",
       "      <th>B_5</th>\n",
       "      <th>B_6</th>\n",
       "      <th>...</th>\n",
       "      <th>C_8</th>\n",
       "      <th>C_9</th>\n",
       "      <th>C_10</th>\n",
       "      <th>C_11</th>\n",
       "      <th>C_12</th>\n",
       "      <th>C_13</th>\n",
       "      <th>C_14</th>\n",
       "      <th>C_15</th>\n",
       "      <th>C_16</th>\n",
       "      <th>C_17</th>\n",
       "    </tr>\n",
       "  </thead>\n",
       "  <tbody>\n",
       "    <tr>\n",
       "      <th>0</th>\n",
       "      <td>1</td>\n",
       "      <td>0</td>\n",
       "      <td>0.415975</td>\n",
       "      <td>0.645902</td>\n",
       "      <td>NaN</td>\n",
       "      <td>NaN</td>\n",
       "      <td>0.000000</td>\n",
       "      <td>1</td>\n",
       "      <td>NaN</td>\n",
       "      <td>NaN</td>\n",
       "      <td>...</td>\n",
       "      <td>0.382046</td>\n",
       "      <td>0.696175</td>\n",
       "      <td>0.767471</td>\n",
       "      <td>0.696545</td>\n",
       "      <td>0.614287</td>\n",
       "      <td>0.730837</td>\n",
       "      <td>2.691057</td>\n",
       "      <td>0.704224</td>\n",
       "      <td>0.718959</td>\n",
       "      <td>0.598945</td>\n",
       "    </tr>\n",
       "    <tr>\n",
       "      <th>1</th>\n",
       "      <td>3</td>\n",
       "      <td>0</td>\n",
       "      <td>0.176933</td>\n",
       "      <td>0.273043</td>\n",
       "      <td>NaN</td>\n",
       "      <td>NaN</td>\n",
       "      <td>0.832555</td>\n",
       "      <td>4</td>\n",
       "      <td>NaN</td>\n",
       "      <td>NaN</td>\n",
       "      <td>...</td>\n",
       "      <td>0.511168</td>\n",
       "      <td>0.700571</td>\n",
       "      <td>0.761404</td>\n",
       "      <td>0.408709</td>\n",
       "      <td>0.492776</td>\n",
       "      <td>0.353532</td>\n",
       "      <td>2.649494</td>\n",
       "      <td>0.470418</td>\n",
       "      <td>0.462246</td>\n",
       "      <td>0.852692</td>\n",
       "    </tr>\n",
       "    <tr>\n",
       "      <th>2</th>\n",
       "      <td>5</td>\n",
       "      <td>0</td>\n",
       "      <td>0.415975</td>\n",
       "      <td>0.645902</td>\n",
       "      <td>0.0</td>\n",
       "      <td>NaN</td>\n",
       "      <td>0.832555</td>\n",
       "      <td>1</td>\n",
       "      <td>NaN</td>\n",
       "      <td>NaN</td>\n",
       "      <td>...</td>\n",
       "      <td>0.382046</td>\n",
       "      <td>0.696175</td>\n",
       "      <td>0.767471</td>\n",
       "      <td>0.696545</td>\n",
       "      <td>0.614287</td>\n",
       "      <td>0.730837</td>\n",
       "      <td>2.691057</td>\n",
       "      <td>0.704224</td>\n",
       "      <td>0.718959</td>\n",
       "      <td>0.598945</td>\n",
       "    </tr>\n",
       "    <tr>\n",
       "      <th>3</th>\n",
       "      <td>8</td>\n",
       "      <td>0</td>\n",
       "      <td>0.228507</td>\n",
       "      <td>0.494354</td>\n",
       "      <td>0.0</td>\n",
       "      <td>NaN</td>\n",
       "      <td>0.832555</td>\n",
       "      <td>1</td>\n",
       "      <td>NaN</td>\n",
       "      <td>NaN</td>\n",
       "      <td>...</td>\n",
       "      <td>0.375216</td>\n",
       "      <td>0.658284</td>\n",
       "      <td>0.763675</td>\n",
       "      <td>0.137970</td>\n",
       "      <td>0.415798</td>\n",
       "      <td>0.108351</td>\n",
       "      <td>2.735160</td>\n",
       "      <td>0.135932</td>\n",
       "      <td>0.163578</td>\n",
       "      <td>0.633383</td>\n",
       "    </tr>\n",
       "    <tr>\n",
       "      <th>4</th>\n",
       "      <td>10</td>\n",
       "      <td>0</td>\n",
       "      <td>0.969242</td>\n",
       "      <td>1.586129</td>\n",
       "      <td>0.0</td>\n",
       "      <td>100.0</td>\n",
       "      <td>1.962179</td>\n",
       "      <td>4</td>\n",
       "      <td>NaN</td>\n",
       "      <td>NaN</td>\n",
       "      <td>...</td>\n",
       "      <td>0.299668</td>\n",
       "      <td>0.545841</td>\n",
       "      <td>0.745958</td>\n",
       "      <td>0.182857</td>\n",
       "      <td>0.587873</td>\n",
       "      <td>0.179680</td>\n",
       "      <td>2.732360</td>\n",
       "      <td>0.158576</td>\n",
       "      <td>0.190031</td>\n",
       "      <td>0.729904</td>\n",
       "    </tr>\n",
       "  </tbody>\n",
       "</table>\n",
       "<p>5 rows × 36 columns</p>\n",
       "</div>"
      ],
      "text/plain": [
       "   id  target       A_1       A_2  B_1    B_2       B_3  B_4  B_5  B_6  \\\n",
       "0   1       0  0.415975  0.645902  NaN    NaN  0.000000    1  NaN  NaN   \n",
       "1   3       0  0.176933  0.273043  NaN    NaN  0.832555    4  NaN  NaN   \n",
       "2   5       0  0.415975  0.645902  0.0    NaN  0.832555    1  NaN  NaN   \n",
       "3   8       0  0.228507  0.494354  0.0    NaN  0.832555    1  NaN  NaN   \n",
       "4  10       0  0.969242  1.586129  0.0  100.0  1.962179    4  NaN  NaN   \n",
       "\n",
       "     ...          C_8       C_9      C_10      C_11      C_12      C_13  \\\n",
       "0    ...     0.382046  0.696175  0.767471  0.696545  0.614287  0.730837   \n",
       "1    ...     0.511168  0.700571  0.761404  0.408709  0.492776  0.353532   \n",
       "2    ...     0.382046  0.696175  0.767471  0.696545  0.614287  0.730837   \n",
       "3    ...     0.375216  0.658284  0.763675  0.137970  0.415798  0.108351   \n",
       "4    ...     0.299668  0.545841  0.745958  0.182857  0.587873  0.179680   \n",
       "\n",
       "       C_14      C_15      C_16      C_17  \n",
       "0  2.691057  0.704224  0.718959  0.598945  \n",
       "1  2.649494  0.470418  0.462246  0.852692  \n",
       "2  2.691057  0.704224  0.718959  0.598945  \n",
       "3  2.735160  0.135932  0.163578  0.633383  \n",
       "4  2.732360  0.158576  0.190031  0.729904  \n",
       "\n",
       "[5 rows x 36 columns]"
      ]
     },
     "execution_count": 87,
     "metadata": {},
     "output_type": "execute_result"
    }
   ],
   "source": [
    "train_df.head()"
   ]
  },
  {
   "cell_type": "code",
   "execution_count": 106,
   "metadata": {},
   "outputs": [
    {
     "name": "stdout",
     "output_type": "stream",
     "text": [
      "194.9242053789731\n"
     ]
    }
   ],
   "source": [
    "train_df['target'].value_counts()\n",
    "ratio = 398620/2045\n",
    "print(ratio)"
   ]
  },
  {
   "cell_type": "code",
   "execution_count": 88,
   "metadata": {},
   "outputs": [
    {
     "data": {
      "text/plain": [
       "id          int64\n",
       "target      int64\n",
       "A_1       float64\n",
       "A_2       float64\n",
       "B_1       float64\n",
       "B_2       float64\n",
       "B_3       float64\n",
       "B_4         int64\n",
       "B_5        object\n",
       "B_6        object\n",
       "B_7       float64\n",
       "B_8       float64\n",
       "B_9         int64\n",
       "B_10      float64\n",
       "B_11        int64\n",
       "B_12        int64\n",
       "B_13        int64\n",
       "B_14       object\n",
       "B_15       object\n",
       "C_1       float64\n",
       "C_2       float64\n",
       "C_3       float64\n",
       "C_4       float64\n",
       "C_5       float64\n",
       "C_6       float64\n",
       "C_7       float64\n",
       "C_8       float64\n",
       "C_9       float64\n",
       "C_10      float64\n",
       "C_11      float64\n",
       "C_12      float64\n",
       "C_13      float64\n",
       "C_14      float64\n",
       "C_15      float64\n",
       "C_16      float64\n",
       "C_17      float64\n",
       "dtype: object"
      ]
     },
     "execution_count": 88,
     "metadata": {},
     "output_type": "execute_result"
    }
   ],
   "source": [
    "train_df.dtypes"
   ]
  },
  {
   "cell_type": "code",
   "execution_count": 89,
   "metadata": {},
   "outputs": [
    {
     "name": "stdout",
     "output_type": "stream",
     "text": [
      "[nan 'B' 'C' 'D' 'A' 'F' 'E']\n",
      "[nan 'B' 'A' 'C']\n",
      "['A' nan 'B']\n",
      "[nan 'Q' 'b' 'j' 'D' 'C' 'c' 'f' 'T' 'N' 'F' 'Y' 'J' 'g' 'A' 'U' 'S' 'l'\n",
      " 'm' 'n' 'K' 'O' 'I' 'X' 'B' 'H' 'a' 'p' 'R' 'L' 'V' 'd' 'E' 'P' 'G' 'e'\n",
      " 'W' 'M' 'i' 'o' 'h' 'k']\n"
     ]
    }
   ],
   "source": [
    "print(train_df.B_5.unique())\n",
    "print(train_df.B_6.unique())\n",
    "print(train_df.B_14.unique())\n",
    "print(train_df.B_15.unique())\n"
   ]
  },
  {
   "cell_type": "code",
   "execution_count": null,
   "metadata": {},
   "outputs": [],
   "source": [
    "\n",
    "# First XGBoost model for Pima Indians dataset\n",
    "from numpy import loadtxt\n",
    "from xgboost import XGBClassifier\n",
    "from sklearn.model_selection import train_test_split\n",
    "from sklearn.metrics import accuracy_score, log_loss\n",
    "# load data\n",
    "dataset = train_df\n",
    "\n",
    "# split data into X and y\n",
    "X = dataset.drop(['id','target','B_5', 'B_6', 'B_14', 'B_15'], axis=1)\n",
    "Y = dataset['target']\n",
    "# split data into train and test sets\n",
    "seed = 7\n",
    "test_size = 0.33\n",
    "X_train, X_test, y_train, y_test = train_test_split(X, Y, test_size=test_size, random_state=seed)\n",
    "# fit model no training data\n",
    "model = XGBClassifier(base_score=0.5, booster='gbtree', colsample_bylevel=1,\n",
    "       colsample_bytree=1, gamma=0, learning_rate=0.1, max_delta_step=0,\n",
    "       max_depth=6, min_child_weight=1, missing=None, n_estimators=1000,\n",
    "       n_jobs=1, nthread=None, objective='binary:logistic', random_state=0,\n",
    "       reg_alpha=0, reg_lambda=1, scale_pos_weight=194, seed=None,\n",
    "       silent=False, subsample=1)\n",
    "model.fit(X_train, y_train)\n"
   ]
  },
  {
   "cell_type": "code",
   "execution_count": 115,
   "metadata": {},
   "outputs": [
    {
     "name": "stdout",
     "output_type": "stream",
     "text": [
      "0.5761306912721222\n"
     ]
    },
    {
     "name": "stderr",
     "output_type": "stream",
     "text": [
      "/home/chandanmaruthi/workspace/kaggle/kaggle/env/lib/python3.5/site-packages/sklearn/preprocessing/label.py:151: DeprecationWarning: The truth value of an empty array is ambiguous. Returning False, but in future this will result in an error. Use `array.size > 0` to check that an array is not empty.\n",
      "  if diff:\n"
     ]
    }
   ],
   "source": [
    "# make predictions for test data\n",
    "y_pred = model.predict(X_test)\n",
    "# evaluate predictions\n",
    "predictions = [round(value) for value in y_pred]\n",
    "accuracy = accuracy_score(y_test, predictions)\n",
    "#log_loss_val= log_loss(y_test, y_pred)\n",
    "print(accuracy)"
   ]
  },
  {
   "cell_type": "code",
   "execution_count": 100,
   "metadata": {},
   "outputs": [
    {
     "name": "stderr",
     "output_type": "stream",
     "text": [
      "/home/chandanmaruthi/workspace/kaggle/kaggle/env/lib/python3.5/site-packages/sklearn/preprocessing/label.py:151: DeprecationWarning: The truth value of an empty array is ambiguous. Returning False, but in future this will result in an error. Use `array.size > 0` to check that an array is not empty.\n",
      "  if diff:\n"
     ]
    }
   ],
   "source": [
    "X_test_validation = test_df.drop(['id','B_5', 'B_6', 'B_14', 'B_15'], axis=1)\n",
    "y_test_pred =  pd.DataFrame(model.predict(X_test_validation))\n",
    "#print(y_test_pred)\n",
    "submission= pd.DataFrame({'id':test_df['id'], 'target':y_test_pred[0]})\n",
    "submission.to_csv(\"results/submission.csv\", index=False)"
   ]
  }
 ],
 "metadata": {
  "kernelspec": {
   "display_name": "Python 3",
   "language": "python",
   "name": "python3"
  },
  "language_info": {
   "codemirror_mode": {
    "name": "ipython",
    "version": 3
   },
   "file_extension": ".py",
   "mimetype": "text/x-python",
   "name": "python",
   "nbconvert_exporter": "python",
   "pygments_lexer": "ipython3",
   "version": "3.5.2"
  }
 },
 "nbformat": 4,
 "nbformat_minor": 2
}
